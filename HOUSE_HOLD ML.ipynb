{
 "cells": [
  {
   "cell_type": "markdown",
   "id": "30a79c9a-2ab5-4c1c-bb2d-8e7f56909055",
   "metadata": {},
   "source": [
    "# Voltage Monitoring Dataset"
   ]
  },
  {
   "cell_type": "code",
   "execution_count": 1,
   "id": "7fd3f62a-df14-4560-8169-8312ae4a7cdb",
   "metadata": {},
   "outputs": [],
   "source": [
    "import numpy as np\n",
    "import pandas as pd\n",
    "import matplotlib.pyplot as plt\n",
    "import seaborn as sns"
   ]
  },
  {
   "cell_type": "code",
   "execution_count": 2,
   "id": "3a88e277-5db7-4cf5-b749-b07fb2aba989",
   "metadata": {},
   "outputs": [],
   "source": [
    "df=pd.read_csv(r\"C:\\Users\\Asus\\Downloads\\house_hold_voltage - Sheet1.csv\")"
   ]
  },
  {
   "cell_type": "markdown",
   "id": "d420d6d1-b512-49a6-b507-4dcf0c4de16a",
   "metadata": {},
   "source": [
    "# DATA ANALYSING"
   ]
  },
  {
   "cell_type": "code",
   "execution_count": 3,
   "id": "60a01a20-33c6-47b4-a576-15965365a2aa",
   "metadata": {},
   "outputs": [
    {
     "data": {
      "text/html": [
       "<div>\n",
       "<style scoped>\n",
       "    .dataframe tbody tr th:only-of-type {\n",
       "        vertical-align: middle;\n",
       "    }\n",
       "\n",
       "    .dataframe tbody tr th {\n",
       "        vertical-align: top;\n",
       "    }\n",
       "\n",
       "    .dataframe thead th {\n",
       "        text-align: right;\n",
       "    }\n",
       "</style>\n",
       "<table border=\"1\" class=\"dataframe\">\n",
       "  <thead>\n",
       "    <tr style=\"text-align: right;\">\n",
       "      <th></th>\n",
       "      <th>Date</th>\n",
       "      <th>Global_active_power</th>\n",
       "      <th>Global_reactive_power</th>\n",
       "      <th>Voltage</th>\n",
       "      <th>Global_intensity</th>\n",
       "      <th>Sub_metering_1</th>\n",
       "      <th>Sub_metering_2</th>\n",
       "      <th>Sub_metering_3</th>\n",
       "    </tr>\n",
       "  </thead>\n",
       "  <tbody>\n",
       "    <tr>\n",
       "      <th>0</th>\n",
       "      <td>1/1/07</td>\n",
       "      <td>2.580</td>\n",
       "      <td>0.136</td>\n",
       "      <td>241.97</td>\n",
       "      <td>10.6</td>\n",
       "      <td>0</td>\n",
       "      <td>0</td>\n",
       "      <td>0</td>\n",
       "    </tr>\n",
       "    <tr>\n",
       "      <th>1</th>\n",
       "      <td>1/1/07</td>\n",
       "      <td>2.552</td>\n",
       "      <td>0.100</td>\n",
       "      <td>241.75</td>\n",
       "      <td>10.4</td>\n",
       "      <td>0</td>\n",
       "      <td>0</td>\n",
       "      <td>0</td>\n",
       "    </tr>\n",
       "    <tr>\n",
       "      <th>2</th>\n",
       "      <td>1/1/07</td>\n",
       "      <td>2.550</td>\n",
       "      <td>0.100</td>\n",
       "      <td>241.64</td>\n",
       "      <td>10.4</td>\n",
       "      <td>0</td>\n",
       "      <td>0</td>\n",
       "      <td>0</td>\n",
       "    </tr>\n",
       "    <tr>\n",
       "      <th>3</th>\n",
       "      <td>1/1/07</td>\n",
       "      <td>2.550</td>\n",
       "      <td>0.100</td>\n",
       "      <td>241.71</td>\n",
       "      <td>10.4</td>\n",
       "      <td>0</td>\n",
       "      <td>0</td>\n",
       "      <td>0</td>\n",
       "    </tr>\n",
       "    <tr>\n",
       "      <th>4</th>\n",
       "      <td>1/1/07</td>\n",
       "      <td>2.554</td>\n",
       "      <td>0.100</td>\n",
       "      <td>241.98</td>\n",
       "      <td>10.4</td>\n",
       "      <td>0</td>\n",
       "      <td>0</td>\n",
       "      <td>0</td>\n",
       "    </tr>\n",
       "    <tr>\n",
       "      <th>...</th>\n",
       "      <td>...</td>\n",
       "      <td>...</td>\n",
       "      <td>...</td>\n",
       "      <td>...</td>\n",
       "      <td>...</td>\n",
       "      <td>...</td>\n",
       "      <td>...</td>\n",
       "      <td>...</td>\n",
       "    </tr>\n",
       "    <tr>\n",
       "      <th>1088</th>\n",
       "      <td>29/6/2007</td>\n",
       "      <td>2.824</td>\n",
       "      <td>0.180</td>\n",
       "      <td>238.43</td>\n",
       "      <td>11.8</td>\n",
       "      <td>37</td>\n",
       "      <td>0</td>\n",
       "      <td>0</td>\n",
       "    </tr>\n",
       "    <tr>\n",
       "      <th>1089</th>\n",
       "      <td>29/6/2007</td>\n",
       "      <td>2.832</td>\n",
       "      <td>0.182</td>\n",
       "      <td>238.64</td>\n",
       "      <td>11.8</td>\n",
       "      <td>38</td>\n",
       "      <td>0</td>\n",
       "      <td>0</td>\n",
       "    </tr>\n",
       "    <tr>\n",
       "      <th>1090</th>\n",
       "      <td>29/6/2007</td>\n",
       "      <td>2.828</td>\n",
       "      <td>0.182</td>\n",
       "      <td>238.85</td>\n",
       "      <td>11.8</td>\n",
       "      <td>38</td>\n",
       "      <td>0</td>\n",
       "      <td>0</td>\n",
       "    </tr>\n",
       "    <tr>\n",
       "      <th>1091</th>\n",
       "      <td>29/6/2007</td>\n",
       "      <td>2.124</td>\n",
       "      <td>0.192</td>\n",
       "      <td>239.51</td>\n",
       "      <td>9.8</td>\n",
       "      <td>28</td>\n",
       "      <td>0</td>\n",
       "      <td>0</td>\n",
       "    </tr>\n",
       "    <tr>\n",
       "      <th>1092</th>\n",
       "      <td>29/6/2007</td>\n",
       "      <td>0.568</td>\n",
       "      <td>0.202</td>\n",
       "      <td>241.03</td>\n",
       "      <td>2.8</td>\n",
       "      <td>0</td>\n",
       "      <td>0</td>\n",
       "      <td>0</td>\n",
       "    </tr>\n",
       "  </tbody>\n",
       "</table>\n",
       "<p>1093 rows × 8 columns</p>\n",
       "</div>"
      ],
      "text/plain": [
       "           Date  Global_active_power  Global_reactive_power  Voltage  \\\n",
       "0        1/1/07                2.580                  0.136   241.97   \n",
       "1        1/1/07                2.552                  0.100   241.75   \n",
       "2        1/1/07                2.550                  0.100   241.64   \n",
       "3        1/1/07                2.550                  0.100   241.71   \n",
       "4        1/1/07                2.554                  0.100   241.98   \n",
       "...         ...                  ...                    ...      ...   \n",
       "1088  29/6/2007                2.824                  0.180   238.43   \n",
       "1089  29/6/2007                2.832                  0.182   238.64   \n",
       "1090  29/6/2007                2.828                  0.182   238.85   \n",
       "1091  29/6/2007                2.124                  0.192   239.51   \n",
       "1092  29/6/2007                0.568                  0.202   241.03   \n",
       "\n",
       "      Global_intensity  Sub_metering_1  Sub_metering_2  Sub_metering_3  \n",
       "0                 10.6               0               0               0  \n",
       "1                 10.4               0               0               0  \n",
       "2                 10.4               0               0               0  \n",
       "3                 10.4               0               0               0  \n",
       "4                 10.4               0               0               0  \n",
       "...                ...             ...             ...             ...  \n",
       "1088              11.8              37               0               0  \n",
       "1089              11.8              38               0               0  \n",
       "1090              11.8              38               0               0  \n",
       "1091               9.8              28               0               0  \n",
       "1092               2.8               0               0               0  \n",
       "\n",
       "[1093 rows x 8 columns]"
      ]
     },
     "execution_count": 3,
     "metadata": {},
     "output_type": "execute_result"
    }
   ],
   "source": [
    "df"
   ]
  },
  {
   "cell_type": "code",
   "execution_count": 4,
   "id": "da63d7bb-6a8f-4545-bc02-8310fb0cf6c1",
   "metadata": {},
   "outputs": [
    {
     "data": {
      "text/html": [
       "<div>\n",
       "<style scoped>\n",
       "    .dataframe tbody tr th:only-of-type {\n",
       "        vertical-align: middle;\n",
       "    }\n",
       "\n",
       "    .dataframe tbody tr th {\n",
       "        vertical-align: top;\n",
       "    }\n",
       "\n",
       "    .dataframe thead th {\n",
       "        text-align: right;\n",
       "    }\n",
       "</style>\n",
       "<table border=\"1\" class=\"dataframe\">\n",
       "  <thead>\n",
       "    <tr style=\"text-align: right;\">\n",
       "      <th></th>\n",
       "      <th>Date</th>\n",
       "      <th>Global_active_power</th>\n",
       "      <th>Global_reactive_power</th>\n",
       "      <th>Voltage</th>\n",
       "      <th>Global_intensity</th>\n",
       "      <th>Sub_metering_1</th>\n",
       "      <th>Sub_metering_2</th>\n",
       "      <th>Sub_metering_3</th>\n",
       "    </tr>\n",
       "  </thead>\n",
       "  <tbody>\n",
       "    <tr>\n",
       "      <th>0</th>\n",
       "      <td>1/1/07</td>\n",
       "      <td>2.580</td>\n",
       "      <td>0.136</td>\n",
       "      <td>241.97</td>\n",
       "      <td>10.6</td>\n",
       "      <td>0</td>\n",
       "      <td>0</td>\n",
       "      <td>0</td>\n",
       "    </tr>\n",
       "    <tr>\n",
       "      <th>1</th>\n",
       "      <td>1/1/07</td>\n",
       "      <td>2.552</td>\n",
       "      <td>0.100</td>\n",
       "      <td>241.75</td>\n",
       "      <td>10.4</td>\n",
       "      <td>0</td>\n",
       "      <td>0</td>\n",
       "      <td>0</td>\n",
       "    </tr>\n",
       "    <tr>\n",
       "      <th>2</th>\n",
       "      <td>1/1/07</td>\n",
       "      <td>2.550</td>\n",
       "      <td>0.100</td>\n",
       "      <td>241.64</td>\n",
       "      <td>10.4</td>\n",
       "      <td>0</td>\n",
       "      <td>0</td>\n",
       "      <td>0</td>\n",
       "    </tr>\n",
       "    <tr>\n",
       "      <th>3</th>\n",
       "      <td>1/1/07</td>\n",
       "      <td>2.550</td>\n",
       "      <td>0.100</td>\n",
       "      <td>241.71</td>\n",
       "      <td>10.4</td>\n",
       "      <td>0</td>\n",
       "      <td>0</td>\n",
       "      <td>0</td>\n",
       "    </tr>\n",
       "    <tr>\n",
       "      <th>4</th>\n",
       "      <td>1/1/07</td>\n",
       "      <td>2.554</td>\n",
       "      <td>0.100</td>\n",
       "      <td>241.98</td>\n",
       "      <td>10.4</td>\n",
       "      <td>0</td>\n",
       "      <td>0</td>\n",
       "      <td>0</td>\n",
       "    </tr>\n",
       "  </tbody>\n",
       "</table>\n",
       "</div>"
      ],
      "text/plain": [
       "     Date  Global_active_power  Global_reactive_power  Voltage  \\\n",
       "0  1/1/07                2.580                  0.136   241.97   \n",
       "1  1/1/07                2.552                  0.100   241.75   \n",
       "2  1/1/07                2.550                  0.100   241.64   \n",
       "3  1/1/07                2.550                  0.100   241.71   \n",
       "4  1/1/07                2.554                  0.100   241.98   \n",
       "\n",
       "   Global_intensity  Sub_metering_1  Sub_metering_2  Sub_metering_3  \n",
       "0              10.6               0               0               0  \n",
       "1              10.4               0               0               0  \n",
       "2              10.4               0               0               0  \n",
       "3              10.4               0               0               0  \n",
       "4              10.4               0               0               0  "
      ]
     },
     "execution_count": 4,
     "metadata": {},
     "output_type": "execute_result"
    }
   ],
   "source": [
    "df.head()"
   ]
  },
  {
   "cell_type": "code",
   "execution_count": 5,
   "id": "bc829a12-6b1b-446d-9dda-d26b6ae31838",
   "metadata": {},
   "outputs": [
    {
     "data": {
      "text/html": [
       "<div>\n",
       "<style scoped>\n",
       "    .dataframe tbody tr th:only-of-type {\n",
       "        vertical-align: middle;\n",
       "    }\n",
       "\n",
       "    .dataframe tbody tr th {\n",
       "        vertical-align: top;\n",
       "    }\n",
       "\n",
       "    .dataframe thead th {\n",
       "        text-align: right;\n",
       "    }\n",
       "</style>\n",
       "<table border=\"1\" class=\"dataframe\">\n",
       "  <thead>\n",
       "    <tr style=\"text-align: right;\">\n",
       "      <th></th>\n",
       "      <th>Date</th>\n",
       "      <th>Global_active_power</th>\n",
       "      <th>Global_reactive_power</th>\n",
       "      <th>Voltage</th>\n",
       "      <th>Global_intensity</th>\n",
       "      <th>Sub_metering_1</th>\n",
       "      <th>Sub_metering_2</th>\n",
       "      <th>Sub_metering_3</th>\n",
       "    </tr>\n",
       "  </thead>\n",
       "  <tbody>\n",
       "    <tr>\n",
       "      <th>1088</th>\n",
       "      <td>29/6/2007</td>\n",
       "      <td>2.824</td>\n",
       "      <td>0.180</td>\n",
       "      <td>238.43</td>\n",
       "      <td>11.8</td>\n",
       "      <td>37</td>\n",
       "      <td>0</td>\n",
       "      <td>0</td>\n",
       "    </tr>\n",
       "    <tr>\n",
       "      <th>1089</th>\n",
       "      <td>29/6/2007</td>\n",
       "      <td>2.832</td>\n",
       "      <td>0.182</td>\n",
       "      <td>238.64</td>\n",
       "      <td>11.8</td>\n",
       "      <td>38</td>\n",
       "      <td>0</td>\n",
       "      <td>0</td>\n",
       "    </tr>\n",
       "    <tr>\n",
       "      <th>1090</th>\n",
       "      <td>29/6/2007</td>\n",
       "      <td>2.828</td>\n",
       "      <td>0.182</td>\n",
       "      <td>238.85</td>\n",
       "      <td>11.8</td>\n",
       "      <td>38</td>\n",
       "      <td>0</td>\n",
       "      <td>0</td>\n",
       "    </tr>\n",
       "    <tr>\n",
       "      <th>1091</th>\n",
       "      <td>29/6/2007</td>\n",
       "      <td>2.124</td>\n",
       "      <td>0.192</td>\n",
       "      <td>239.51</td>\n",
       "      <td>9.8</td>\n",
       "      <td>28</td>\n",
       "      <td>0</td>\n",
       "      <td>0</td>\n",
       "    </tr>\n",
       "    <tr>\n",
       "      <th>1092</th>\n",
       "      <td>29/6/2007</td>\n",
       "      <td>0.568</td>\n",
       "      <td>0.202</td>\n",
       "      <td>241.03</td>\n",
       "      <td>2.8</td>\n",
       "      <td>0</td>\n",
       "      <td>0</td>\n",
       "      <td>0</td>\n",
       "    </tr>\n",
       "  </tbody>\n",
       "</table>\n",
       "</div>"
      ],
      "text/plain": [
       "           Date  Global_active_power  Global_reactive_power  Voltage  \\\n",
       "1088  29/6/2007                2.824                  0.180   238.43   \n",
       "1089  29/6/2007                2.832                  0.182   238.64   \n",
       "1090  29/6/2007                2.828                  0.182   238.85   \n",
       "1091  29/6/2007                2.124                  0.192   239.51   \n",
       "1092  29/6/2007                0.568                  0.202   241.03   \n",
       "\n",
       "      Global_intensity  Sub_metering_1  Sub_metering_2  Sub_metering_3  \n",
       "1088              11.8              37               0               0  \n",
       "1089              11.8              38               0               0  \n",
       "1090              11.8              38               0               0  \n",
       "1091               9.8              28               0               0  \n",
       "1092               2.8               0               0               0  "
      ]
     },
     "execution_count": 5,
     "metadata": {},
     "output_type": "execute_result"
    }
   ],
   "source": [
    "df.tail()"
   ]
  },
  {
   "cell_type": "code",
   "execution_count": 6,
   "id": "6457e2b0-e47b-425e-8a0d-b8c350926629",
   "metadata": {},
   "outputs": [
    {
     "data": {
      "text/plain": [
       "(1093, 8)"
      ]
     },
     "execution_count": 6,
     "metadata": {},
     "output_type": "execute_result"
    }
   ],
   "source": [
    "df.shape"
   ]
  },
  {
   "cell_type": "code",
   "execution_count": 7,
   "id": "389e506e-0dc8-4bb7-8911-4f997cd6ef28",
   "metadata": {},
   "outputs": [
    {
     "data": {
      "text/plain": [
       "Index(['Date', 'Global_active_power', 'Global_reactive_power', 'Voltage',\n",
       "       'Global_intensity', 'Sub_metering_1', 'Sub_metering_2',\n",
       "       'Sub_metering_3'],\n",
       "      dtype='object')"
      ]
     },
     "execution_count": 7,
     "metadata": {},
     "output_type": "execute_result"
    }
   ],
   "source": [
    "df.columns"
   ]
  },
  {
   "cell_type": "code",
   "execution_count": 8,
   "id": "6b118909-cb67-4415-87ff-ff06655631fe",
   "metadata": {},
   "outputs": [
    {
     "data": {
      "text/plain": [
       "Date                      object\n",
       "Global_active_power      float64\n",
       "Global_reactive_power    float64\n",
       "Voltage                  float64\n",
       "Global_intensity         float64\n",
       "Sub_metering_1             int64\n",
       "Sub_metering_2             int64\n",
       "Sub_metering_3             int64\n",
       "dtype: object"
      ]
     },
     "execution_count": 8,
     "metadata": {},
     "output_type": "execute_result"
    }
   ],
   "source": [
    "df.dtypes"
   ]
  },
  {
   "cell_type": "code",
   "execution_count": 9,
   "id": "49057e96-33b1-4483-af1e-350ceae32dd3",
   "metadata": {},
   "outputs": [
    {
     "data": {
      "text/plain": [
       "Date                     0\n",
       "Global_active_power      0\n",
       "Global_reactive_power    0\n",
       "Voltage                  0\n",
       "Global_intensity         0\n",
       "Sub_metering_1           0\n",
       "Sub_metering_2           0\n",
       "Sub_metering_3           0\n",
       "dtype: int64"
      ]
     },
     "execution_count": 9,
     "metadata": {},
     "output_type": "execute_result"
    }
   ],
   "source": [
    "df.isnull().sum()"
   ]
  },
  {
   "cell_type": "markdown",
   "id": "653fad6b-bccb-4ce2-8b10-68b3aa3ebfbf",
   "metadata": {},
   "source": [
    "# DATA CLEANING"
   ]
  },
  {
   "cell_type": "code",
   "execution_count": 10,
   "id": "3fcd1d69-27d3-4fa7-a9eb-84590411672c",
   "metadata": {},
   "outputs": [
    {
     "data": {
      "text/plain": [
       "Text(0.5, 1.0, 'Voltage')"
      ]
     },
     "execution_count": 10,
     "metadata": {},
     "output_type": "execute_result"
    },
    {
     "data": {
      "image/png": "[encoded data removed]",
      "text/plain": [
       "<Figure size 640x480 with 1 Axes>"
      ]
     },
     "metadata": {},
     "output_type": "display_data"
    }
   ],
   "source": [
    "plt.boxplot(df['Voltage'])\n",
    "plt.title('Voltage')"
   ]
  },
  {
   "cell_type": "code",
   "execution_count": 11,
   "id": "05a8e014-7ea2-4808-8239-e7db09e57ece",
   "metadata": {},
   "outputs": [
    {
     "data": {
      "text/plain": [
       "Text(0.5, 1.0, 'Sub_metering_1')"
      ]
     },
     "execution_count": 11,
     "metadata": {},
     "output_type": "execute_result"
    },
    {
     "data": {
      "image/png": "[encoded data removed]",
      "text/plain": [
       "<Figure size 640x480 with 1 Axes>"
      ]
     },
     "metadata": {},
     "output_type": "display_data"
    }
   ],
   "source": [
    "plt.boxplot(df['Sub_metering_1'])\n",
    "plt.title('Sub_metering_1')"
   ]
  },
  {
   "cell_type": "code",
   "execution_count": 12,
   "id": "bdee4a32-316e-4ce2-8581-9c7f794dbc7c",
   "metadata": {},
   "outputs": [
    {
     "name": "stdout",
     "output_type": "stream",
     "text": [
      "240.92\n",
      "242.58\n",
      "244.19\n"
     ]
    }
   ],
   "source": [
    "Q1=np.percentile(df['Voltage'],25,interpolation='midpoint')\n",
    "Q2=np.percentile(df['Voltage'],50,interpolation='midpoint')\n",
    "Q3=np.percentile(df['Voltage'],75,interpolation='midpoint')\n",
    "print(Q1)\n",
    "print(Q2)\n",
    "print(Q3)"
   ]
  },
  {
   "cell_type": "code",
   "execution_count": 13,
   "id": "ba5ced88-a88f-4f72-a6e2-9555dd532894",
   "metadata": {},
   "outputs": [
    {
     "name": "stdout",
     "output_type": "stream",
     "text": [
      "3.2700000000000102\n"
     ]
    }
   ],
   "source": [
    "IQR=Q3-Q1\n",
    "print(IQR)"
   ]
  },
  {
   "cell_type": "code",
   "execution_count": 14,
   "id": "1c0e255f-42bd-4a87-911b-a677df89a5ea",
   "metadata": {},
   "outputs": [
    {
     "name": "stdout",
     "output_type": "stream",
     "text": [
      "249.09500000000003\n",
      "236.015\n"
     ]
    }
   ],
   "source": [
    "upper_limit=Q3+1.5*IQR\n",
    "lower_limit=Q1-1.5*IQR\n",
    "print(upper_limit)\n",
    "print(lower_limit)"
   ]
  },
  {
   "cell_type": "code",
   "execution_count": 15,
   "id": "93c5ff75-90be-4a40-8c7a-2e4a89325eb3",
   "metadata": {},
   "outputs": [
    {
     "data": {
      "text/plain": [
       "[241.97,\n",
       " 241.75,\n",
       " 241.64,\n",
       " 241.71,\n",
       " 241.98,\n",
       " 241.83,\n",
       " 241.07,\n",
       " 241.29,\n",
       " 241.23,\n",
       " 242.18,\n",
       " 242.46,\n",
       " 242.88,\n",
       " 242.57,\n",
       " 240.5,\n",
       " 240.08,\n",
       " 240.5,\n",
       " 240.65,\n",
       " 240.68,\n",
       " 240.69,\n",
       " 240.3,\n",
       " 240.85,\n",
       " 240.98,\n",
       " 241.4,\n",
       " 242.11,\n",
       " 242.12,\n",
       " 241.96,\n",
       " 241.98,\n",
       " 241.84,\n",
       " 240.63,\n",
       " 240.81,\n",
       " 240.82,\n",
       " 241.39,\n",
       " 241.09,\n",
       " 241.09,\n",
       " 241.79,\n",
       " 241.82,\n",
       " 241.38,\n",
       " 242.36,\n",
       " 243.64,\n",
       " 242.99,\n",
       " 243.21,\n",
       " 243.39,\n",
       " 243.56,\n",
       " 243.3,\n",
       " 243.21,\n",
       " 243.61,\n",
       " 243.72,\n",
       " 243.44,\n",
       " 243.1,\n",
       " 242.9,\n",
       " 243.05,\n",
       " 242.72,\n",
       " 242.37,\n",
       " 243.17,\n",
       " 242.75,\n",
       " 242.08,\n",
       " 242.18,\n",
       " 244.44,\n",
       " 246.14,\n",
       " 245.49,\n",
       " 245.34,\n",
       " 245.17,\n",
       " 245.23,\n",
       " 245.08,\n",
       " 245.23,\n",
       " 245.09,\n",
       " 245.12,\n",
       " 245.06,\n",
       " 244.87,\n",
       " 243.87,\n",
       " 244.16,\n",
       " 244.45,\n",
       " 244.73,\n",
       " 245.17,\n",
       " 245.33,\n",
       " 245.47,\n",
       " 247.03,\n",
       " 247.41,\n",
       " 247.18,\n",
       " 247.1,\n",
       " 247.28,\n",
       " 246.54,\n",
       " 245.88,\n",
       " 246.31,\n",
       " 246.61,\n",
       " 245.89,\n",
       " 245.73,\n",
       " 246.0,\n",
       " 245.38,\n",
       " 244.3,\n",
       " 244.49,\n",
       " 244.32,\n",
       " 244.44,\n",
       " 244.92,\n",
       " 245.35,\n",
       " 245.54,\n",
       " 245.96,\n",
       " 245.45,\n",
       " 246.21,\n",
       " 246.02,\n",
       " 245.59,\n",
       " 245.77,\n",
       " 245.69,\n",
       " 246.39,\n",
       " 245.97,\n",
       " 244.99,\n",
       " 245.55,\n",
       " 244.29,\n",
       " 243.58,\n",
       " 242.54,\n",
       " 242.89,\n",
       " 242.96,\n",
       " 243.27,\n",
       " 243.4,\n",
       " 243.62,\n",
       " 244.18,\n",
       " 244.73,\n",
       " 244.5,\n",
       " 244.43,\n",
       " 243.89,\n",
       " 244.03,\n",
       " 243.33,\n",
       " 242.78,\n",
       " 243.19,\n",
       " 242.56,\n",
       " 242.53,\n",
       " 242.26,\n",
       " 241.87,\n",
       " 242.13,\n",
       " 243.48,\n",
       " 243.13,\n",
       " 242.96,\n",
       " 242.86,\n",
       " 243.15,\n",
       " 242.97,\n",
       " 242.42,\n",
       " 242.14,\n",
       " 241.99,\n",
       " 241.88,\n",
       " 241.41,\n",
       " 242.2,\n",
       " 241.59,\n",
       " 246.24,\n",
       " 245.28,\n",
       " 245.27,\n",
       " 245.29,\n",
       " 245.77,\n",
       " 245.5,\n",
       " 245.19,\n",
       " 245.92,\n",
       " 246.25,\n",
       " 245.65,\n",
       " 245.26,\n",
       " 245.4,\n",
       " 245.36,\n",
       " 244.95,\n",
       " 244.0,\n",
       " 243.37,\n",
       " 243.97,\n",
       " 244.55,\n",
       " 244.13,\n",
       " 244.33,\n",
       " 243.9,\n",
       " 243.77,\n",
       " 243.87,\n",
       " 243.7,\n",
       " 242.66,\n",
       " 243.15,\n",
       " 242.88,\n",
       " 242.9,\n",
       " 242.54,\n",
       " 242.78,\n",
       " 243.45,\n",
       " 243.11,\n",
       " 243.65,\n",
       " 243.12,\n",
       " 242.08,\n",
       " 241.52,\n",
       " 242.1,\n",
       " 241.95,\n",
       " 242.45,\n",
       " 242.94,\n",
       " 242.71,\n",
       " 243.01,\n",
       " 242.79,\n",
       " 242.92,\n",
       " 242.99,\n",
       " 242.79,\n",
       " 242.78,\n",
       " 242.78,\n",
       " 243.03,\n",
       " 242.47,\n",
       " 241.88,\n",
       " 241.63,\n",
       " 242.08,\n",
       " 241.65,\n",
       " 242.66,\n",
       " 242.83,\n",
       " 242.56,\n",
       " 242.66,\n",
       " 243.07,\n",
       " 243.32,\n",
       " 243.04,\n",
       " 243.13,\n",
       " 243.32,\n",
       " 243.97,\n",
       " 242.92,\n",
       " 241.63,\n",
       " 241.22,\n",
       " 240.26,\n",
       " 239.49,\n",
       " 239.75,\n",
       " 240.82,\n",
       " 241.73,\n",
       " 241.52,\n",
       " 242.91,\n",
       " 241.1,\n",
       " 241.12,\n",
       " 241.21,\n",
       " 241.93,\n",
       " 242.37,\n",
       " 242.78,\n",
       " 242.93,\n",
       " 241.83,\n",
       " 242.25,\n",
       " 242.44,\n",
       " 239.94,\n",
       " 240.2,\n",
       " 238.76,\n",
       " 240.32,\n",
       " 241.61,\n",
       " 240.96,\n",
       " 240.71,\n",
       " 240.95,\n",
       " 240.79,\n",
       " 240.57,\n",
       " 241.08,\n",
       " 241.18,\n",
       " 240.8,\n",
       " 241.11,\n",
       " 241.98,\n",
       " 241.75,\n",
       " 241.89,\n",
       " 241.94,\n",
       " 242.2,\n",
       " 243.22,\n",
       " 242.9,\n",
       " 243.44,\n",
       " 243.11,\n",
       " 242.37,\n",
       " 241.94,\n",
       " 241.31,\n",
       " 242.44,\n",
       " 241.96,\n",
       " 240.48,\n",
       " 240.92,\n",
       " 241.2,\n",
       " 241.32,\n",
       " 242.22,\n",
       " 241.79,\n",
       " 241.77,\n",
       " 241.52,\n",
       " 241.32,\n",
       " 241.35,\n",
       " 242.47,\n",
       " 242.31,\n",
       " 241.78,\n",
       " 242.1,\n",
       " 241.66,\n",
       " 241.09,\n",
       " 241.23,\n",
       " 241.57,\n",
       " 241.68,\n",
       " 241.73,\n",
       " 241.61,\n",
       " 240.86,\n",
       " 241.13,\n",
       " 241.58,\n",
       " 242.4,\n",
       " 242.72,\n",
       " 242.8,\n",
       " 242.97,\n",
       " 244.02,\n",
       " 244.39,\n",
       " 244.18,\n",
       " 244.11,\n",
       " 243.71,\n",
       " 243.53,\n",
       " 243.26,\n",
       " 243.83,\n",
       " 244.74,\n",
       " 245.19,\n",
       " 244.97,\n",
       " 244.54,\n",
       " 244.68,\n",
       " 245.1,\n",
       " 245.05,\n",
       " 243.91,\n",
       " 243.19,\n",
       " 243.39,\n",
       " 243.68,\n",
       " 243.89,\n",
       " 244.14,\n",
       " 244.34,\n",
       " 244.81,\n",
       " 244.38,\n",
       " 244.21,\n",
       " 243.69,\n",
       " 243.76,\n",
       " 243.78,\n",
       " 244.58,\n",
       " 244.59,\n",
       " 244.39,\n",
       " 244.36,\n",
       " 245.27,\n",
       " 244.37,\n",
       " 244.17,\n",
       " 244.41,\n",
       " 243.65,\n",
       " 244.7,\n",
       " 244.56,\n",
       " 244.56,\n",
       " 244.96,\n",
       " 244.37,\n",
       " 244.99,\n",
       " 245.47,\n",
       " 245.0,\n",
       " 244.6,\n",
       " 244.08,\n",
       " 244.66,\n",
       " 244.86,\n",
       " 244.97,\n",
       " 245.0,\n",
       " 245.14,\n",
       " 244.89,\n",
       " 244.19,\n",
       " 244.44,\n",
       " 244.64,\n",
       " 245.83,\n",
       " 246.06,\n",
       " 246.48,\n",
       " 246.68,\n",
       " 245.62,\n",
       " 244.97,\n",
       " 245.21,\n",
       " 245.66,\n",
       " 243.49,\n",
       " 243.5,\n",
       " 243.71,\n",
       " 244.6,\n",
       " 244.85,\n",
       " 244.72,\n",
       " 244.82,\n",
       " 244.37,\n",
       " 244.11,\n",
       " 245.44,\n",
       " 245.22,\n",
       " 245.63,\n",
       " 247.32,\n",
       " 247.91,\n",
       " 248.53,\n",
       " 248.18,\n",
       " 246.83,\n",
       " 245.98,\n",
       " 245.62,\n",
       " 246.17,\n",
       " 247.01,\n",
       " 247.25,\n",
       " 246.9,\n",
       " 246.9,\n",
       " 247.23,\n",
       " 246.05,\n",
       " 244.72,\n",
       " 244.51,\n",
       " 243.92,\n",
       " 244.08,\n",
       " 244.31,\n",
       " 244.23,\n",
       " 244.95,\n",
       " 244.9,\n",
       " 244.67,\n",
       " 244.28,\n",
       " 243.15,\n",
       " 242.69,\n",
       " 242.22,\n",
       " 241.38,\n",
       " 241.85,\n",
       " 242.61,\n",
       " 242.57,\n",
       " 243.35,\n",
       " 243.16,\n",
       " 243.29,\n",
       " 242.56,\n",
       " 243.01,\n",
       " 243.03,\n",
       " 241.64,\n",
       " 241.71,\n",
       " 242.29,\n",
       " 242.87,\n",
       " 242.4,\n",
       " 242.69,\n",
       " 242.64,\n",
       " 241.47,\n",
       " 240.43,\n",
       " 241.48,\n",
       " 241.33,\n",
       " 240.32,\n",
       " 240.34,\n",
       " 240.21,\n",
       " 239.87,\n",
       " 239.63,\n",
       " 239.6,\n",
       " 239.79,\n",
       " 239.73,\n",
       " 239.14,\n",
       " 240.13,\n",
       " 241.8,\n",
       " 239.76,\n",
       " 239.51,\n",
       " 239.84,\n",
       " 240.85,\n",
       " 241.26,\n",
       " 241.28,\n",
       " 240.8,\n",
       " 238.73,\n",
       " 238.58,\n",
       " 236.26,\n",
       " 237.13,\n",
       " 237.79,\n",
       " 238.02,\n",
       " 237.96,\n",
       " 237.82,\n",
       " 237.68,\n",
       " 237.44,\n",
       " 236.62,\n",
       " 236.66,\n",
       " 236.3,\n",
       " 236.41,\n",
       " 237.23,\n",
       " 237.05,\n",
       " 238.05,\n",
       " 237.85,\n",
       " 238.57,\n",
       " 237.51,\n",
       " 237.51,\n",
       " 237.75,\n",
       " 238.09,\n",
       " 238.41,\n",
       " 238.51,\n",
       " 238.2,\n",
       " 238.0,\n",
       " 237.44,\n",
       " 236.59,\n",
       " 237.28,\n",
       " 236.7,\n",
       " 237.17,\n",
       " 237.37,\n",
       " 238.11,\n",
       " 238.31,\n",
       " 236.49,\n",
       " 242.58,\n",
       " 242.46,\n",
       " 243.17,\n",
       " 243.62,\n",
       " 243.51,\n",
       " 243.52,\n",
       " 242.96,\n",
       " 243.17,\n",
       " 242.54,\n",
       " 241.59,\n",
       " 242.04,\n",
       " 242.1,\n",
       " 242.25,\n",
       " 242.28,\n",
       " 243.31,\n",
       " 243.44,\n",
       " 243.54,\n",
       " 243.67,\n",
       " 243.81,\n",
       " 243.28,\n",
       " 243.14,\n",
       " 242.96,\n",
       " 243.18,\n",
       " 242.63,\n",
       " 242.86,\n",
       " 242.08,\n",
       " 241.59,\n",
       " 242.12,\n",
       " 242.4,\n",
       " 242.11,\n",
       " 242.19,\n",
       " 242.9,\n",
       " 243.8,\n",
       " 243.64,\n",
       " 242.96,\n",
       " 242.89,\n",
       " 242.47,\n",
       " 242.68,\n",
       " 243.11,\n",
       " 243.14,\n",
       " 243.18,\n",
       " 243.24,\n",
       " 242.42,\n",
       " 242.12,\n",
       " 242.46,\n",
       " 242.04,\n",
       " 242.05,\n",
       " 241.34,\n",
       " 241.24,\n",
       " 241.92,\n",
       " 242.4,\n",
       " 242.63,\n",
       " 242.75,\n",
       " 242.81,\n",
       " 243.16,\n",
       " 242.3,\n",
       " 241.71,\n",
       " 241.46,\n",
       " 242.13,\n",
       " 242.62,\n",
       " 243.31,\n",
       " 241.58,\n",
       " 241.8,\n",
       " 241.48,\n",
       " 241.21,\n",
       " 241.83,\n",
       " 241.64,\n",
       " 241.63,\n",
       " 242.12,\n",
       " 241.81,\n",
       " 242.43,\n",
       " 242.58,\n",
       " 242.47,\n",
       " 243.09,\n",
       " 243.61,\n",
       " 244.08,\n",
       " 244.02,\n",
       " 243.16,\n",
       " 242.56,\n",
       " 242.28,\n",
       " 242.16,\n",
       " 242.02,\n",
       " 242.12,\n",
       " 241.99,\n",
       " 241.68,\n",
       " 241.8,\n",
       " 241.57,\n",
       " 242.02,\n",
       " 241.47,\n",
       " 241.59,\n",
       " 241.64,\n",
       " 242.29,\n",
       " 242.73,\n",
       " 242.51,\n",
       " 242.35,\n",
       " 242.0,\n",
       " 241.98,\n",
       " 242.02,\n",
       " 241.73,\n",
       " 242.56,\n",
       " 242.56,\n",
       " 242.99,\n",
       " 242.02,\n",
       " 241.44,\n",
       " 242.12,\n",
       " 242.61,\n",
       " 242.93,\n",
       " 242.43,\n",
       " 242.3,\n",
       " 242.28,\n",
       " 242.46,\n",
       " 243.01,\n",
       " 243.17,\n",
       " 242.63,\n",
       " 242.35,\n",
       " 241.34,\n",
       " 241.49,\n",
       " 242.0,\n",
       " 241.93,\n",
       " 242.14,\n",
       " 241.59,\n",
       " 242.1,\n",
       " 239.39,\n",
       " 239.02,\n",
       " 238.86,\n",
       " 238.6,\n",
       " 238.7,\n",
       " 239.27,\n",
       " 239.2,\n",
       " 239.04,\n",
       " 239.1,\n",
       " 238.74,\n",
       " 239.09,\n",
       " 239.56,\n",
       " 239.61,\n",
       " 240.27,\n",
       " 240.24,\n",
       " 239.42,\n",
       " 239.2,\n",
       " 239.54,\n",
       " 240.62,\n",
       " 240.8,\n",
       " 241.38,\n",
       " 240.61,\n",
       " 240.56,\n",
       " 240.47,\n",
       " 240.97,\n",
       " 240.51,\n",
       " 240.08,\n",
       " 240.12,\n",
       " 239.32,\n",
       " 239.95,\n",
       " 240.28,\n",
       " 240.76,\n",
       " 241.53,\n",
       " 241.02,\n",
       " 240.96,\n",
       " 240.7,\n",
       " 240.79,\n",
       " 240.18,\n",
       " 241.08,\n",
       " 241.26,\n",
       " 241.17,\n",
       " 242.14,\n",
       " 242.46,\n",
       " 243.48,\n",
       " 243.02,\n",
       " 241.96,\n",
       " 241.97,\n",
       " 241.7,\n",
       " 241.51,\n",
       " 241.11,\n",
       " 241.06,\n",
       " 240.81,\n",
       " 240.75,\n",
       " 240.89,\n",
       " 241.12,\n",
       " 240.97,\n",
       " 241.14,\n",
       " 241.83,\n",
       " 242.11,\n",
       " 241.73,\n",
       " 240.68,\n",
       " 240.93,\n",
       " 241.15,\n",
       " 241.25,\n",
       " 240.93,\n",
       " 241.39,\n",
       " 241.64,\n",
       " 241.01,\n",
       " 241.02,\n",
       " 241.58,\n",
       " 242.16,\n",
       " 242.29,\n",
       " 242.78,\n",
       " 242.92,\n",
       " 242.5,\n",
       " 242.18,\n",
       " 241.6,\n",
       " 241.38,\n",
       " 241.92,\n",
       " 242.05,\n",
       " 242.14,\n",
       " 241.66,\n",
       " 241.21,\n",
       " 242.9,\n",
       " 243.99,\n",
       " 243.92,\n",
       " 243.7,\n",
       " 243.62,\n",
       " 243.76,\n",
       " 243.9,\n",
       " 243.92,\n",
       " 244.21,\n",
       " 244.81,\n",
       " 245.14,\n",
       " 245.21,\n",
       " 245.96,\n",
       " 246.65,\n",
       " 246.65,\n",
       " 246.41,\n",
       " 246.1,\n",
       " 245.53,\n",
       " 244.89,\n",
       " 244.87,\n",
       " 244.69,\n",
       " 243.66,\n",
       " 244.06,\n",
       " 244.49,\n",
       " 244.7,\n",
       " 244.65,\n",
       " 245.13,\n",
       " 246.1,\n",
       " 246.46,\n",
       " 247.02,\n",
       " 247.98,\n",
       " 247.98,\n",
       " 247.91,\n",
       " 247.91,\n",
       " 247.6,\n",
       " 247.41,\n",
       " 246.69,\n",
       " 246.83,\n",
       " 247.09,\n",
       " 246.87,\n",
       " 246.7,\n",
       " 246.61,\n",
       " 245.89,\n",
       " 245.48,\n",
       " 246.03,\n",
       " 246.82,\n",
       " 247.65,\n",
       " 247.81,\n",
       " 247.53,\n",
       " 247.36,\n",
       " 247.35,\n",
       " 247.47,\n",
       " 246.88,\n",
       " 246.21,\n",
       " 245.85,\n",
       " 245.98,\n",
       " 245.61,\n",
       " 246.11,\n",
       " 245.83,\n",
       " 245.83,\n",
       " 245.51,\n",
       " 246.0,\n",
       " 245.68,\n",
       " 245.04,\n",
       " 244.68,\n",
       " 245.66,\n",
       " 245.75,\n",
       " 245.7,\n",
       " 245.86,\n",
       " 245.66,\n",
       " 245.37,\n",
       " 245.38,\n",
       " 246.25,\n",
       " 247.55,\n",
       " 247.28,\n",
       " 246.61,\n",
       " 245.5,\n",
       " 244.98,\n",
       " 245.14,\n",
       " 245.27,\n",
       " 244.98,\n",
       " 245.15,\n",
       " 245.41,\n",
       " 246.13,\n",
       " 246.19,\n",
       " 245.21,\n",
       " 245.67,\n",
       " 245.73,\n",
       " 246.01,\n",
       " 246.48,\n",
       " 246.68,\n",
       " 246.58,\n",
       " 246.34,\n",
       " 246.21,\n",
       " 245.68,\n",
       " 244.76,\n",
       " 244.35,\n",
       " 244.23,\n",
       " 244.81,\n",
       " 245.31,\n",
       " 244.59,\n",
       " 245.08,\n",
       " 245.36,\n",
       " 244.89,\n",
       " 244.56,\n",
       " 243.92,\n",
       " 243.82,\n",
       " 243.25,\n",
       " 242.79,\n",
       " 242.28,\n",
       " 242.68,\n",
       " 243.23,\n",
       " 242.31,\n",
       " 242.43,\n",
       " 243.0,\n",
       " 243.73,\n",
       " 244.3,\n",
       " 244.62,\n",
       " 244.82,\n",
       " 245.21,\n",
       " 244.15,\n",
       " 244.02,\n",
       " 244.79,\n",
       " 244.07,\n",
       " 244.42,\n",
       " 244.47,\n",
       " 244.48,\n",
       " 244.65,\n",
       " 243.99,\n",
       " 243.15,\n",
       " 242.76,\n",
       " 242.68,\n",
       " 243.72,\n",
       " 244.59,\n",
       " 244.33,\n",
       " 244.19,\n",
       " 244.24,\n",
       " 244.13,\n",
       " 244.01,\n",
       " 244.21,\n",
       " 244.24,\n",
       " 244.97,\n",
       " 244.91,\n",
       " 244.96,\n",
       " 245.03,\n",
       " 244.92,\n",
       " 244.62,\n",
       " 244.43,\n",
       " 244.07,\n",
       " 243.76,\n",
       " 243.31,\n",
       " 243.43,\n",
       " 242.98,\n",
       " 242.42,\n",
       " 242.86,\n",
       " 243.13,\n",
       " 243.92,\n",
       " 245.22,\n",
       " 245.57,\n",
       " 244.93,\n",
       " 244.87,\n",
       " 244.51,\n",
       " 243.86,\n",
       " 243.93,\n",
       " 244.26,\n",
       " 244.09,\n",
       " 244.56,\n",
       " 244.19,\n",
       " 244.36,\n",
       " 244.18,\n",
       " 243.68,\n",
       " 242.66,\n",
       " 242.31,\n",
       " 241.64,\n",
       " 241.74,\n",
       " 241.71,\n",
       " 242.38,\n",
       " 242.34,\n",
       " 242.89,\n",
       " 242.52,\n",
       " 242.22,\n",
       " 241.67,\n",
       " 241.81,\n",
       " 242.29,\n",
       " 242.69,\n",
       " 242.7,\n",
       " 242.82,\n",
       " 242.79,\n",
       " 242.3,\n",
       " 242.24,\n",
       " 242.43,\n",
       " 242.44,\n",
       " 242.72,\n",
       " 242.19,\n",
       " 241.77,\n",
       " 241.86,\n",
       " 242.04,\n",
       " 243.07,\n",
       " 243.4,\n",
       " 243.33,\n",
       " 243.64,\n",
       " 243.77,\n",
       " 243.74,\n",
       " 243.53,\n",
       " 243.17,\n",
       " 242.92,\n",
       " 242.42,\n",
       " 243.69,\n",
       " 243.01,\n",
       " 243.06,\n",
       " 243.55,\n",
       " 243.27,\n",
       " 242.97,\n",
       " 243.16,\n",
       " 242.93,\n",
       " 242.75,\n",
       " 242.9,\n",
       " 242.37,\n",
       " 242.44,\n",
       " 243.23,\n",
       " 242.89,\n",
       " 243.43,\n",
       " 243.51,\n",
       " 243.44,\n",
       " 243.72,\n",
       " 243.87,\n",
       " 243.76,\n",
       " 243.79,\n",
       " 243.51,\n",
       " 243.33,\n",
       " 244.13,\n",
       " 244.49,\n",
       " 244.61,\n",
       " 244.27,\n",
       " 243.93,\n",
       " 244.05,\n",
       " 244.32,\n",
       " 243.85,\n",
       " 243.62,\n",
       " 243.77,\n",
       " 243.1,\n",
       " 243.84,\n",
       " 243.95,\n",
       " 243.39,\n",
       " 243.25,\n",
       " 242.96,\n",
       " 241.81,\n",
       " 242.14,\n",
       " 242.15,\n",
       " 242.57,\n",
       " 243.43,\n",
       " 244.23,\n",
       " 243.91,\n",
       " 243.97,\n",
       " 244.08,\n",
       " 244.38,\n",
       " 243.73,\n",
       " 243.26,\n",
       " 242.94,\n",
       " 242.89,\n",
       " 243.44,\n",
       " 242.64,\n",
       " 241.68,\n",
       " 241.35,\n",
       " 240.52,\n",
       " 240.44,\n",
       " 241.32,\n",
       " 242.39,\n",
       " 243.29,\n",
       " 243.75,\n",
       " 236.41,\n",
       " 236.04,\n",
       " 236.15,\n",
       " 236.04,\n",
       " 236.11,\n",
       " 236.33,\n",
       " 236.54,\n",
       " 236.12,\n",
       " 236.63,\n",
       " 236.44,\n",
       " 236.46,\n",
       " 236.71,\n",
       " 236.61,\n",
       " 236.49,\n",
       " 237.23,\n",
       " 237.4,\n",
       " 238.53,\n",
       " 238.38,\n",
       " 238.54,\n",
       " 238.28,\n",
       " 238.14,\n",
       " 237.72,\n",
       " 237.71,\n",
       " 237.57,\n",
       " 237.2,\n",
       " 236.07,\n",
       " 236.55,\n",
       " 236.51,\n",
       " 236.15,\n",
       " 236.57,\n",
       " 237.2,\n",
       " 236.93,\n",
       " 236.81,\n",
       " 236.51,\n",
       " 236.98,\n",
       " 236.6,\n",
       " 236.65,\n",
       " 236.52,\n",
       " 236.11,\n",
       " 236.5,\n",
       " 236.52,\n",
       " 236.28,\n",
       " 236.22,\n",
       " 238.06,\n",
       " 238.14,\n",
       " 238.09,\n",
       " 237.54,\n",
       " 237.72,\n",
       " 236.86,\n",
       " 237.09,\n",
       " 237.86,\n",
       " 237.79,\n",
       " 237.59,\n",
       " 236.84,\n",
       " 236.09,\n",
       " 236.05,\n",
       " 236.71,\n",
       " 236.78,\n",
       " 237.2,\n",
       " 236.83,\n",
       " 237.17,\n",
       " 237.73,\n",
       " 237.98,\n",
       " 236.03,\n",
       " 236.16,\n",
       " ...]"
      ]
     },
     "execution_count": 15,
     "metadata": {},
     "output_type": "execute_result"
    }
   ],
   "source": [
    "outlier=[]\n",
    "for x in df['Voltage']:\n",
    "  if((x>upper_limit) or (x>lower_limit)):\n",
    "    outlier.append(x)\n",
    "outlier"
   ]
  },
  {
   "cell_type": "code",
   "execution_count": 16,
   "id": "ebe9d80a-8dd3-4f69-8563-a2331282ddac",
   "metadata": {},
   "outputs": [
    {
     "name": "stdout",
     "output_type": "stream",
     "text": [
      "0.0\n",
      "0.0\n",
      "0.0\n"
     ]
    }
   ],
   "source": [
    "Q1=np.percentile(df['Sub_metering_1'],25,interpolation='midpoint')\n",
    "Q2=np.percentile(df['Sub_metering_1'],50,interpolation='midpoint')\n",
    "Q3=np.percentile(df['Sub_metering_1'],75,interpolation='midpoint')\n",
    "print(Q1)\n",
    "print(Q2)\n",
    "print(Q3)"
   ]
  },
  {
   "cell_type": "code",
   "execution_count": 17,
   "id": "a6b865de-ddff-4679-9ef1-f85cbba58760",
   "metadata": {},
   "outputs": [
    {
     "name": "stdout",
     "output_type": "stream",
     "text": [
      "0.0\n"
     ]
    }
   ],
   "source": [
    "IQR=Q3-Q1\n",
    "print(IQR)"
   ]
  },
  {
   "cell_type": "code",
   "execution_count": 18,
   "id": "e13f75c5-4631-4708-8e06-ae71078482f8",
   "metadata": {},
   "outputs": [
    {
     "name": "stdout",
     "output_type": "stream",
     "text": [
      "0.0\n",
      "0.0\n"
     ]
    }
   ],
   "source": [
    "upper_limit=Q3+1.5*IQR\n",
    "lower_limit=Q1-1.5*IQR\n",
    "print(upper_limit)\n",
    "print(lower_limit)"
   ]
  },
  {
   "cell_type": "code",
   "execution_count": 19,
   "id": "8fb32027-43ab-495d-b9a9-52bd42f5784b",
   "metadata": {},
   "outputs": [
    {
     "data": {
      "text/plain": [
       "[1,\n",
       " 1,\n",
       " 2,\n",
       " 1,\n",
       " 1,\n",
       " 1,\n",
       " 1,\n",
       " 2,\n",
       " 1,\n",
       " 1,\n",
       " 1,\n",
       " 1,\n",
       " 11,\n",
       " 39,\n",
       " 38,\n",
       " 39,\n",
       " 39,\n",
       " 39,\n",
       " 39,\n",
       " 39,\n",
       " 38,\n",
       " 38,\n",
       " 38,\n",
       " 37,\n",
       " 37,\n",
       " 4,\n",
       " 1,\n",
       " 2,\n",
       " 1,\n",
       " 1,\n",
       " 1,\n",
       " 1,\n",
       " 2,\n",
       " 1,\n",
       " 1,\n",
       " 1,\n",
       " 1,\n",
       " 2,\n",
       " 1,\n",
       " 1,\n",
       " 1,\n",
       " 1,\n",
       " 1,\n",
       " 2,\n",
       " 1,\n",
       " 1,\n",
       " 1,\n",
       " 1,\n",
       " 1,\n",
       " 1,\n",
       " 2,\n",
       " 1,\n",
       " 1,\n",
       " 1,\n",
       " 1,\n",
       " 1,\n",
       " 1,\n",
       " 1,\n",
       " 34,\n",
       " 1,\n",
       " 1,\n",
       " 2,\n",
       " 1,\n",
       " 1,\n",
       " 14,\n",
       " 37,\n",
       " 36,\n",
       " 37,\n",
       " 36,\n",
       " 36,\n",
       " 36,\n",
       " 36,\n",
       " 37,\n",
       " 20,\n",
       " 3,\n",
       " 33,\n",
       " 1,\n",
       " 1,\n",
       " 2,\n",
       " 1,\n",
       " 4,\n",
       " 37,\n",
       " 37,\n",
       " 36,\n",
       " 37,\n",
       " 15,\n",
       " 1,\n",
       " 1,\n",
       " 2,\n",
       " 1,\n",
       " 1,\n",
       " 1,\n",
       " 1,\n",
       " 2,\n",
       " 1,\n",
       " 1,\n",
       " 1,\n",
       " 1,\n",
       " 2,\n",
       " 1,\n",
       " 1,\n",
       " 1,\n",
       " 1,\n",
       " 2,\n",
       " 1,\n",
       " 1,\n",
       " 1,\n",
       " 1,\n",
       " 2,\n",
       " 1,\n",
       " 1,\n",
       " 1,\n",
       " 1,\n",
       " 2,\n",
       " 1,\n",
       " 1,\n",
       " 1,\n",
       " 1,\n",
       " 1,\n",
       " 1,\n",
       " 1,\n",
       " 2,\n",
       " 1,\n",
       " 1,\n",
       " 1,\n",
       " 1,\n",
       " 2,\n",
       " 1,\n",
       " 2,\n",
       " 1,\n",
       " 1,\n",
       " 1,\n",
       " 2,\n",
       " 1,\n",
       " 1,\n",
       " 1,\n",
       " 1,\n",
       " 4,\n",
       " 37,\n",
       " 37,\n",
       " 37,\n",
       " 37,\n",
       " 37,\n",
       " 37,\n",
       " 37,\n",
       " 37,\n",
       " 37,\n",
       " 37,\n",
       " 36,\n",
       " 37,\n",
       " 24,\n",
       " 37,\n",
       " 38,\n",
       " 38,\n",
       " 37,\n",
       " 38,\n",
       " 37,\n",
       " 38,\n",
       " 38,\n",
       " 37,\n",
       " 38,\n",
       " 38,\n",
       " 28]"
      ]
     },
     "execution_count": 19,
     "metadata": {},
     "output_type": "execute_result"
    }
   ],
   "source": [
    "outlier=[]\n",
    "for x in df['Sub_metering_1']:\n",
    "  if((x>upper_limit) or (x>lower_limit)):\n",
    "    outlier.append(x)\n",
    "outlier"
   ]
  },
  {
   "cell_type": "code",
   "execution_count": 20,
   "id": "865aaeb5-e6f6-4b95-bee9-e153b9af791a",
   "metadata": {},
   "outputs": [
    {
     "data": {
      "text/plain": [
       "(1093, 8)"
      ]
     },
     "execution_count": 20,
     "metadata": {},
     "output_type": "execute_result"
    }
   ],
   "source": [
    "df.shape"
   ]
  },
  {
   "cell_type": "markdown",
   "id": "c76d2bc9-249d-4783-a7a2-7419874f3f98",
   "metadata": {},
   "source": [
    "# DATA TRANSFORMATION"
   ]
  },
  {
   "cell_type": "code",
   "execution_count": 21,
   "id": "a61a49af-dc20-48b3-8b95-57acf665b080",
   "metadata": {},
   "outputs": [
    {
     "data": {
      "text/html": [
       "<div>\n",
       "<style scoped>\n",
       "    .dataframe tbody tr th:only-of-type {\n",
       "        vertical-align: middle;\n",
       "    }\n",
       "\n",
       "    .dataframe tbody tr th {\n",
       "        vertical-align: top;\n",
       "    }\n",
       "\n",
       "    .dataframe thead th {\n",
       "        text-align: right;\n",
       "    }\n",
       "</style>\n",
       "<table border=\"1\" class=\"dataframe\">\n",
       "  <thead>\n",
       "    <tr style=\"text-align: right;\">\n",
       "      <th></th>\n",
       "      <th>Date</th>\n",
       "      <th>Global_active_power</th>\n",
       "      <th>Global_reactive_power</th>\n",
       "      <th>Voltage</th>\n",
       "      <th>Global_intensity</th>\n",
       "      <th>Sub_metering_1</th>\n",
       "      <th>Sub_metering_2</th>\n",
       "      <th>Sub_metering_3</th>\n",
       "    </tr>\n",
       "  </thead>\n",
       "  <tbody>\n",
       "    <tr>\n",
       "      <th>0</th>\n",
       "      <td>1/1/07</td>\n",
       "      <td>2.580</td>\n",
       "      <td>0.136</td>\n",
       "      <td>241.97</td>\n",
       "      <td>10.6</td>\n",
       "      <td>0</td>\n",
       "      <td>0</td>\n",
       "      <td>0</td>\n",
       "    </tr>\n",
       "    <tr>\n",
       "      <th>1</th>\n",
       "      <td>1/1/07</td>\n",
       "      <td>2.552</td>\n",
       "      <td>0.100</td>\n",
       "      <td>241.75</td>\n",
       "      <td>10.4</td>\n",
       "      <td>0</td>\n",
       "      <td>0</td>\n",
       "      <td>0</td>\n",
       "    </tr>\n",
       "    <tr>\n",
       "      <th>2</th>\n",
       "      <td>1/1/07</td>\n",
       "      <td>2.550</td>\n",
       "      <td>0.100</td>\n",
       "      <td>241.64</td>\n",
       "      <td>10.4</td>\n",
       "      <td>0</td>\n",
       "      <td>0</td>\n",
       "      <td>0</td>\n",
       "    </tr>\n",
       "    <tr>\n",
       "      <th>3</th>\n",
       "      <td>1/1/07</td>\n",
       "      <td>2.550</td>\n",
       "      <td>0.100</td>\n",
       "      <td>241.71</td>\n",
       "      <td>10.4</td>\n",
       "      <td>0</td>\n",
       "      <td>0</td>\n",
       "      <td>0</td>\n",
       "    </tr>\n",
       "    <tr>\n",
       "      <th>4</th>\n",
       "      <td>1/1/07</td>\n",
       "      <td>2.554</td>\n",
       "      <td>0.100</td>\n",
       "      <td>241.98</td>\n",
       "      <td>10.4</td>\n",
       "      <td>0</td>\n",
       "      <td>0</td>\n",
       "      <td>0</td>\n",
       "    </tr>\n",
       "  </tbody>\n",
       "</table>\n",
       "</div>"
      ],
      "text/plain": [
       "     Date  Global_active_power  Global_reactive_power  Voltage  \\\n",
       "0  1/1/07                2.580                  0.136   241.97   \n",
       "1  1/1/07                2.552                  0.100   241.75   \n",
       "2  1/1/07                2.550                  0.100   241.64   \n",
       "3  1/1/07                2.550                  0.100   241.71   \n",
       "4  1/1/07                2.554                  0.100   241.98   \n",
       "\n",
       "   Global_intensity  Sub_metering_1  Sub_metering_2  Sub_metering_3  \n",
       "0              10.6               0               0               0  \n",
       "1              10.4               0               0               0  \n",
       "2              10.4               0               0               0  \n",
       "3              10.4               0               0               0  \n",
       "4              10.4               0               0               0  "
      ]
     },
     "execution_count": 21,
     "metadata": {},
     "output_type": "execute_result"
    }
   ],
   "source": [
    "df.head()"
   ]
  },
  {
   "cell_type": "code",
   "execution_count": 22,
   "id": "38bb50f5-3ae5-493a-b586-731df7bb3869",
   "metadata": {},
   "outputs": [],
   "source": [
    "from sklearn.preprocessing import LabelEncoder"
   ]
  },
  {
   "cell_type": "code",
   "execution_count": 23,
   "id": "dab3f45a-45e6-479c-be23-d12787626fbb",
   "metadata": {},
   "outputs": [],
   "source": [
    "le=LabelEncoder()"
   ]
  },
  {
   "cell_type": "code",
   "execution_count": 24,
   "id": "616a0745-0af2-40a1-9736-fa942a9dc0ed",
   "metadata": {},
   "outputs": [
    {
     "data": {
      "text/html": [
       "<div>\n",
       "<style scoped>\n",
       "    .dataframe tbody tr th:only-of-type {\n",
       "        vertical-align: middle;\n",
       "    }\n",
       "\n",
       "    .dataframe tbody tr th {\n",
       "        vertical-align: top;\n",
       "    }\n",
       "\n",
       "    .dataframe thead th {\n",
       "        text-align: right;\n",
       "    }\n",
       "</style>\n",
       "<table border=\"1\" class=\"dataframe\">\n",
       "  <thead>\n",
       "    <tr style=\"text-align: right;\">\n",
       "      <th></th>\n",
       "      <th>Date</th>\n",
       "    </tr>\n",
       "  </thead>\n",
       "  <tbody>\n",
       "    <tr>\n",
       "      <th>0</th>\n",
       "      <td>1/1/07</td>\n",
       "    </tr>\n",
       "    <tr>\n",
       "      <th>1</th>\n",
       "      <td>1/1/07</td>\n",
       "    </tr>\n",
       "    <tr>\n",
       "      <th>2</th>\n",
       "      <td>1/1/07</td>\n",
       "    </tr>\n",
       "    <tr>\n",
       "      <th>3</th>\n",
       "      <td>1/1/07</td>\n",
       "    </tr>\n",
       "    <tr>\n",
       "      <th>4</th>\n",
       "      <td>1/1/07</td>\n",
       "    </tr>\n",
       "    <tr>\n",
       "      <th>...</th>\n",
       "      <td>...</td>\n",
       "    </tr>\n",
       "    <tr>\n",
       "      <th>1088</th>\n",
       "      <td>29/6/2007</td>\n",
       "    </tr>\n",
       "    <tr>\n",
       "      <th>1089</th>\n",
       "      <td>29/6/2007</td>\n",
       "    </tr>\n",
       "    <tr>\n",
       "      <th>1090</th>\n",
       "      <td>29/6/2007</td>\n",
       "    </tr>\n",
       "    <tr>\n",
       "      <th>1091</th>\n",
       "      <td>29/6/2007</td>\n",
       "    </tr>\n",
       "    <tr>\n",
       "      <th>1092</th>\n",
       "      <td>29/6/2007</td>\n",
       "    </tr>\n",
       "  </tbody>\n",
       "</table>\n",
       "<p>1093 rows × 1 columns</p>\n",
       "</div>"
      ],
      "text/plain": [
       "           Date\n",
       "0        1/1/07\n",
       "1        1/1/07\n",
       "2        1/1/07\n",
       "3        1/1/07\n",
       "4        1/1/07\n",
       "...         ...\n",
       "1088  29/6/2007\n",
       "1089  29/6/2007\n",
       "1090  29/6/2007\n",
       "1091  29/6/2007\n",
       "1092  29/6/2007\n",
       "\n",
       "[1093 rows x 1 columns]"
      ]
     },
     "execution_count": 24,
     "metadata": {},
     "output_type": "execute_result"
    }
   ],
   "source": [
    "enc=df.select_dtypes(include=['object'])\n",
    "enc"
   ]
  },
  {
   "cell_type": "code",
   "execution_count": 25,
   "id": "d56fa57b-d8f3-4ee7-af5e-0fd69a047618",
   "metadata": {},
   "outputs": [],
   "source": [
    "for col in enc.columns:\n",
    "            df[col] = le.fit_transform(df[col])"
   ]
  },
  {
   "cell_type": "code",
   "execution_count": 26,
   "id": "c6291793-19ec-4490-8f66-bce0db962af9",
   "metadata": {},
   "outputs": [
    {
     "data": {
      "text/html": [
       "<div>\n",
       "<style scoped>\n",
       "    .dataframe tbody tr th:only-of-type {\n",
       "        vertical-align: middle;\n",
       "    }\n",
       "\n",
       "    .dataframe tbody tr th {\n",
       "        vertical-align: top;\n",
       "    }\n",
       "\n",
       "    .dataframe thead th {\n",
       "        text-align: right;\n",
       "    }\n",
       "</style>\n",
       "<table border=\"1\" class=\"dataframe\">\n",
       "  <thead>\n",
       "    <tr style=\"text-align: right;\">\n",
       "      <th></th>\n",
       "      <th>Date</th>\n",
       "      <th>Global_active_power</th>\n",
       "      <th>Global_reactive_power</th>\n",
       "      <th>Voltage</th>\n",
       "      <th>Global_intensity</th>\n",
       "      <th>Sub_metering_1</th>\n",
       "      <th>Sub_metering_2</th>\n",
       "      <th>Sub_metering_3</th>\n",
       "    </tr>\n",
       "  </thead>\n",
       "  <tbody>\n",
       "    <tr>\n",
       "      <th>0</th>\n",
       "      <td>0</td>\n",
       "      <td>2.580</td>\n",
       "      <td>0.136</td>\n",
       "      <td>241.97</td>\n",
       "      <td>10.6</td>\n",
       "      <td>0</td>\n",
       "      <td>0</td>\n",
       "      <td>0</td>\n",
       "    </tr>\n",
       "    <tr>\n",
       "      <th>1</th>\n",
       "      <td>0</td>\n",
       "      <td>2.552</td>\n",
       "      <td>0.100</td>\n",
       "      <td>241.75</td>\n",
       "      <td>10.4</td>\n",
       "      <td>0</td>\n",
       "      <td>0</td>\n",
       "      <td>0</td>\n",
       "    </tr>\n",
       "    <tr>\n",
       "      <th>2</th>\n",
       "      <td>0</td>\n",
       "      <td>2.550</td>\n",
       "      <td>0.100</td>\n",
       "      <td>241.64</td>\n",
       "      <td>10.4</td>\n",
       "      <td>0</td>\n",
       "      <td>0</td>\n",
       "      <td>0</td>\n",
       "    </tr>\n",
       "    <tr>\n",
       "      <th>3</th>\n",
       "      <td>0</td>\n",
       "      <td>2.550</td>\n",
       "      <td>0.100</td>\n",
       "      <td>241.71</td>\n",
       "      <td>10.4</td>\n",
       "      <td>0</td>\n",
       "      <td>0</td>\n",
       "      <td>0</td>\n",
       "    </tr>\n",
       "    <tr>\n",
       "      <th>4</th>\n",
       "      <td>0</td>\n",
       "      <td>2.554</td>\n",
       "      <td>0.100</td>\n",
       "      <td>241.98</td>\n",
       "      <td>10.4</td>\n",
       "      <td>0</td>\n",
       "      <td>0</td>\n",
       "      <td>0</td>\n",
       "    </tr>\n",
       "  </tbody>\n",
       "</table>\n",
       "</div>"
      ],
      "text/plain": [
       "   Date  Global_active_power  Global_reactive_power  Voltage  \\\n",
       "0     0                2.580                  0.136   241.97   \n",
       "1     0                2.552                  0.100   241.75   \n",
       "2     0                2.550                  0.100   241.64   \n",
       "3     0                2.550                  0.100   241.71   \n",
       "4     0                2.554                  0.100   241.98   \n",
       "\n",
       "   Global_intensity  Sub_metering_1  Sub_metering_2  Sub_metering_3  \n",
       "0              10.6               0               0               0  \n",
       "1              10.4               0               0               0  \n",
       "2              10.4               0               0               0  \n",
       "3              10.4               0               0               0  \n",
       "4              10.4               0               0               0  "
      ]
     },
     "execution_count": 26,
     "metadata": {},
     "output_type": "execute_result"
    }
   ],
   "source": [
    "df.head()"
   ]
  },
  {
   "cell_type": "code",
   "execution_count": 27,
   "id": "95c5cc65-dbc0-4148-a24a-755989fa5a25",
   "metadata": {},
   "outputs": [
    {
     "data": {
      "text/plain": [
       "Date                       int32\n",
       "Global_active_power      float64\n",
       "Global_reactive_power    float64\n",
       "Voltage                  float64\n",
       "Global_intensity         float64\n",
       "Sub_metering_1             int64\n",
       "Sub_metering_2             int64\n",
       "Sub_metering_3             int64\n",
       "dtype: object"
      ]
     },
     "execution_count": 27,
     "metadata": {},
     "output_type": "execute_result"
    }
   ],
   "source": [
    "df.dtypes"
   ]
  },
  {
   "cell_type": "markdown",
   "id": "0ddec278-a3b3-4134-8fc5-361b3403d496",
   "metadata": {},
   "source": [
    "# Data Scaling"
   ]
  },
  {
   "cell_type": "code",
   "execution_count": 28,
   "id": "656099ac-a172-4fd3-a73f-d6a29ef3ba05",
   "metadata": {},
   "outputs": [
    {
     "data": {
      "text/html": [
       "<div>\n",
       "<style scoped>\n",
       "    .dataframe tbody tr th:only-of-type {\n",
       "        vertical-align: middle;\n",
       "    }\n",
       "\n",
       "    .dataframe tbody tr th {\n",
       "        vertical-align: top;\n",
       "    }\n",
       "\n",
       "    .dataframe thead th {\n",
       "        text-align: right;\n",
       "    }\n",
       "</style>\n",
       "<table border=\"1\" class=\"dataframe\">\n",
       "  <thead>\n",
       "    <tr style=\"text-align: right;\">\n",
       "      <th></th>\n",
       "      <th>Date</th>\n",
       "      <th>Global_active_power</th>\n",
       "      <th>Global_reactive_power</th>\n",
       "      <th>Voltage</th>\n",
       "      <th>Global_intensity</th>\n",
       "      <th>Sub_metering_1</th>\n",
       "      <th>Sub_metering_2</th>\n",
       "      <th>Sub_metering_3</th>\n",
       "    </tr>\n",
       "  </thead>\n",
       "  <tbody>\n",
       "    <tr>\n",
       "      <th>0</th>\n",
       "      <td>0</td>\n",
       "      <td>2.580</td>\n",
       "      <td>0.136</td>\n",
       "      <td>241.97</td>\n",
       "      <td>10.6</td>\n",
       "      <td>0</td>\n",
       "      <td>0</td>\n",
       "      <td>0</td>\n",
       "    </tr>\n",
       "    <tr>\n",
       "      <th>1</th>\n",
       "      <td>0</td>\n",
       "      <td>2.552</td>\n",
       "      <td>0.100</td>\n",
       "      <td>241.75</td>\n",
       "      <td>10.4</td>\n",
       "      <td>0</td>\n",
       "      <td>0</td>\n",
       "      <td>0</td>\n",
       "    </tr>\n",
       "    <tr>\n",
       "      <th>2</th>\n",
       "      <td>0</td>\n",
       "      <td>2.550</td>\n",
       "      <td>0.100</td>\n",
       "      <td>241.64</td>\n",
       "      <td>10.4</td>\n",
       "      <td>0</td>\n",
       "      <td>0</td>\n",
       "      <td>0</td>\n",
       "    </tr>\n",
       "    <tr>\n",
       "      <th>3</th>\n",
       "      <td>0</td>\n",
       "      <td>2.550</td>\n",
       "      <td>0.100</td>\n",
       "      <td>241.71</td>\n",
       "      <td>10.4</td>\n",
       "      <td>0</td>\n",
       "      <td>0</td>\n",
       "      <td>0</td>\n",
       "    </tr>\n",
       "    <tr>\n",
       "      <th>4</th>\n",
       "      <td>0</td>\n",
       "      <td>2.554</td>\n",
       "      <td>0.100</td>\n",
       "      <td>241.98</td>\n",
       "      <td>10.4</td>\n",
       "      <td>0</td>\n",
       "      <td>0</td>\n",
       "      <td>0</td>\n",
       "    </tr>\n",
       "    <tr>\n",
       "      <th>...</th>\n",
       "      <td>...</td>\n",
       "      <td>...</td>\n",
       "      <td>...</td>\n",
       "      <td>...</td>\n",
       "      <td>...</td>\n",
       "      <td>...</td>\n",
       "      <td>...</td>\n",
       "      <td>...</td>\n",
       "    </tr>\n",
       "    <tr>\n",
       "      <th>1088</th>\n",
       "      <td>3</td>\n",
       "      <td>2.824</td>\n",
       "      <td>0.180</td>\n",
       "      <td>238.43</td>\n",
       "      <td>11.8</td>\n",
       "      <td>37</td>\n",
       "      <td>0</td>\n",
       "      <td>0</td>\n",
       "    </tr>\n",
       "    <tr>\n",
       "      <th>1089</th>\n",
       "      <td>3</td>\n",
       "      <td>2.832</td>\n",
       "      <td>0.182</td>\n",
       "      <td>238.64</td>\n",
       "      <td>11.8</td>\n",
       "      <td>38</td>\n",
       "      <td>0</td>\n",
       "      <td>0</td>\n",
       "    </tr>\n",
       "    <tr>\n",
       "      <th>1090</th>\n",
       "      <td>3</td>\n",
       "      <td>2.828</td>\n",
       "      <td>0.182</td>\n",
       "      <td>238.85</td>\n",
       "      <td>11.8</td>\n",
       "      <td>38</td>\n",
       "      <td>0</td>\n",
       "      <td>0</td>\n",
       "    </tr>\n",
       "    <tr>\n",
       "      <th>1091</th>\n",
       "      <td>3</td>\n",
       "      <td>2.124</td>\n",
       "      <td>0.192</td>\n",
       "      <td>239.51</td>\n",
       "      <td>9.8</td>\n",
       "      <td>28</td>\n",
       "      <td>0</td>\n",
       "      <td>0</td>\n",
       "    </tr>\n",
       "    <tr>\n",
       "      <th>1092</th>\n",
       "      <td>3</td>\n",
       "      <td>0.568</td>\n",
       "      <td>0.202</td>\n",
       "      <td>241.03</td>\n",
       "      <td>2.8</td>\n",
       "      <td>0</td>\n",
       "      <td>0</td>\n",
       "      <td>0</td>\n",
       "    </tr>\n",
       "  </tbody>\n",
       "</table>\n",
       "<p>1093 rows × 8 columns</p>\n",
       "</div>"
      ],
      "text/plain": [
       "      Date  Global_active_power  Global_reactive_power  Voltage  \\\n",
       "0        0                2.580                  0.136   241.97   \n",
       "1        0                2.552                  0.100   241.75   \n",
       "2        0                2.550                  0.100   241.64   \n",
       "3        0                2.550                  0.100   241.71   \n",
       "4        0                2.554                  0.100   241.98   \n",
       "...    ...                  ...                    ...      ...   \n",
       "1088     3                2.824                  0.180   238.43   \n",
       "1089     3                2.832                  0.182   238.64   \n",
       "1090     3                2.828                  0.182   238.85   \n",
       "1091     3                2.124                  0.192   239.51   \n",
       "1092     3                0.568                  0.202   241.03   \n",
       "\n",
       "      Global_intensity  Sub_metering_1  Sub_metering_2  Sub_metering_3  \n",
       "0                 10.6               0               0               0  \n",
       "1                 10.4               0               0               0  \n",
       "2                 10.4               0               0               0  \n",
       "3                 10.4               0               0               0  \n",
       "4                 10.4               0               0               0  \n",
       "...                ...             ...             ...             ...  \n",
       "1088              11.8              37               0               0  \n",
       "1089              11.8              38               0               0  \n",
       "1090              11.8              38               0               0  \n",
       "1091               9.8              28               0               0  \n",
       "1092               2.8               0               0               0  \n",
       "\n",
       "[1093 rows x 8 columns]"
      ]
     },
     "execution_count": 28,
     "metadata": {},
     "output_type": "execute_result"
    }
   ],
   "source": [
    "df"
   ]
  },
  {
   "cell_type": "code",
   "execution_count": 29,
   "id": "8799bd87-7903-41e3-9e95-e2bd0e8d2426",
   "metadata": {},
   "outputs": [
    {
     "data": {
      "text/plain": [
       "Index(['Date', 'Global_active_power', 'Global_reactive_power', 'Voltage',\n",
       "       'Global_intensity', 'Sub_metering_1', 'Sub_metering_2',\n",
       "       'Sub_metering_3'],\n",
       "      dtype='object')"
      ]
     },
     "execution_count": 29,
     "metadata": {},
     "output_type": "execute_result"
    }
   ],
   "source": [
    "df.columns"
   ]
  },
  {
   "cell_type": "code",
   "execution_count": 30,
   "id": "2b208adc-9eaa-4c8a-b62d-e7b425743c4c",
   "metadata": {},
   "outputs": [],
   "source": [
    "x=df.drop('Voltage',axis=1)\n",
    "y=df['Voltage']"
   ]
  },
  {
   "cell_type": "code",
   "execution_count": 31,
   "id": "64410c0e-750a-4f15-a987-695e1e080030",
   "metadata": {},
   "outputs": [
    {
     "data": {
      "text/html": [
       "<div>\n",
       "<style scoped>\n",
       "    .dataframe tbody tr th:only-of-type {\n",
       "        vertical-align: middle;\n",
       "    }\n",
       "\n",
       "    .dataframe tbody tr th {\n",
       "        vertical-align: top;\n",
       "    }\n",
       "\n",
       "    .dataframe thead th {\n",
       "        text-align: right;\n",
       "    }\n",
       "</style>\n",
       "<table border=\"1\" class=\"dataframe\">\n",
       "  <thead>\n",
       "    <tr style=\"text-align: right;\">\n",
       "      <th></th>\n",
       "      <th>Date</th>\n",
       "      <th>Global_active_power</th>\n",
       "      <th>Global_reactive_power</th>\n",
       "      <th>Global_intensity</th>\n",
       "      <th>Sub_metering_1</th>\n",
       "      <th>Sub_metering_2</th>\n",
       "      <th>Sub_metering_3</th>\n",
       "    </tr>\n",
       "  </thead>\n",
       "  <tbody>\n",
       "    <tr>\n",
       "      <th>0</th>\n",
       "      <td>0</td>\n",
       "      <td>2.580</td>\n",
       "      <td>0.136</td>\n",
       "      <td>10.6</td>\n",
       "      <td>0</td>\n",
       "      <td>0</td>\n",
       "      <td>0</td>\n",
       "    </tr>\n",
       "    <tr>\n",
       "      <th>1</th>\n",
       "      <td>0</td>\n",
       "      <td>2.552</td>\n",
       "      <td>0.100</td>\n",
       "      <td>10.4</td>\n",
       "      <td>0</td>\n",
       "      <td>0</td>\n",
       "      <td>0</td>\n",
       "    </tr>\n",
       "    <tr>\n",
       "      <th>2</th>\n",
       "      <td>0</td>\n",
       "      <td>2.550</td>\n",
       "      <td>0.100</td>\n",
       "      <td>10.4</td>\n",
       "      <td>0</td>\n",
       "      <td>0</td>\n",
       "      <td>0</td>\n",
       "    </tr>\n",
       "    <tr>\n",
       "      <th>3</th>\n",
       "      <td>0</td>\n",
       "      <td>2.550</td>\n",
       "      <td>0.100</td>\n",
       "      <td>10.4</td>\n",
       "      <td>0</td>\n",
       "      <td>0</td>\n",
       "      <td>0</td>\n",
       "    </tr>\n",
       "    <tr>\n",
       "      <th>4</th>\n",
       "      <td>0</td>\n",
       "      <td>2.554</td>\n",
       "      <td>0.100</td>\n",
       "      <td>10.4</td>\n",
       "      <td>0</td>\n",
       "      <td>0</td>\n",
       "      <td>0</td>\n",
       "    </tr>\n",
       "  </tbody>\n",
       "</table>\n",
       "</div>"
      ],
      "text/plain": [
       "   Date  Global_active_power  Global_reactive_power  Global_intensity  \\\n",
       "0     0                2.580                  0.136              10.6   \n",
       "1     0                2.552                  0.100              10.4   \n",
       "2     0                2.550                  0.100              10.4   \n",
       "3     0                2.550                  0.100              10.4   \n",
       "4     0                2.554                  0.100              10.4   \n",
       "\n",
       "   Sub_metering_1  Sub_metering_2  Sub_metering_3  \n",
       "0               0               0               0  \n",
       "1               0               0               0  \n",
       "2               0               0               0  \n",
       "3               0               0               0  \n",
       "4               0               0               0  "
      ]
     },
     "execution_count": 31,
     "metadata": {},
     "output_type": "execute_result"
    }
   ],
   "source": [
    "x.head()"
   ]
  },
  {
   "cell_type": "code",
   "execution_count": 32,
   "id": "2608c8ad-2775-4294-ac87-d82b6ac9d9a3",
   "metadata": {},
   "outputs": [
    {
     "data": {
      "text/plain": [
       "0    241.97\n",
       "1    241.75\n",
       "2    241.64\n",
       "3    241.71\n",
       "4    241.98\n",
       "Name: Voltage, dtype: float64"
      ]
     },
     "execution_count": 32,
     "metadata": {},
     "output_type": "execute_result"
    }
   ],
   "source": [
    "y.head()"
   ]
  },
  {
   "cell_type": "code",
   "execution_count": 33,
   "id": "781517f7-028b-4d2c-a8cb-b21e8e989d55",
   "metadata": {},
   "outputs": [],
   "source": [
    "from sklearn.preprocessing import MinMaxScaler"
   ]
  },
  {
   "cell_type": "code",
   "execution_count": 34,
   "id": "1b19db24-2250-48f9-b84c-bab727bb9abb",
   "metadata": {},
   "outputs": [],
   "source": [
    "minmax=MinMaxScaler()"
   ]
  },
  {
   "cell_type": "code",
   "execution_count": 35,
   "id": "a3ae5fbb-a87d-4fcb-ad7b-d4ca97f0653f",
   "metadata": {},
   "outputs": [],
   "source": [
    "x=minmax.fit_transform(x)"
   ]
  },
  {
   "cell_type": "code",
   "execution_count": 36,
   "id": "204bc3a3-4795-4cfc-b4e8-0fafed1326e8",
   "metadata": {},
   "outputs": [
    {
     "data": {
      "text/plain": [
       "array([[0.        , 0.41368421, 0.35978836, ..., 0.        , 0.        ,\n",
       "        0.        ],\n",
       "       [0.        , 0.40877193, 0.26455026, ..., 0.        , 0.        ,\n",
       "        0.        ],\n",
       "       [0.        , 0.40842105, 0.26455026, ..., 0.        , 0.        ,\n",
       "        0.        ],\n",
       "       ...,\n",
       "       [0.375     , 0.45719298, 0.48148148, ..., 0.97435897, 0.        ,\n",
       "        0.        ],\n",
       "       [0.375     , 0.33368421, 0.50793651, ..., 0.71794872, 0.        ,\n",
       "        0.        ],\n",
       "       [0.375     , 0.06070175, 0.53439153, ..., 0.        , 0.        ,\n",
       "        0.        ]])"
      ]
     },
     "execution_count": 36,
     "metadata": {},
     "output_type": "execute_result"
    }
   ],
   "source": [
    "x"
   ]
  },
  {
   "cell_type": "code",
   "execution_count": 37,
   "id": "cc1316ed-0754-46e9-a2ec-985e43f718f2",
   "metadata": {},
   "outputs": [],
   "source": [
    "x=pd.DataFrame(x,columns=['Date', 'Global_active_power', 'Global_reactive_power',\n",
    "       'Global_intensity', 'Sub_metering_1', 'Sub_metering_2',\n",
    "       'Sub_metering_3'])"
   ]
  },
  {
   "cell_type": "code",
   "execution_count": 38,
   "id": "1d16120b-a9d6-4e2e-9586-9d7e4f52c598",
   "metadata": {},
   "outputs": [
    {
     "data": {
      "text/html": [
       "<div>\n",
       "<style scoped>\n",
       "    .dataframe tbody tr th:only-of-type {\n",
       "        vertical-align: middle;\n",
       "    }\n",
       "\n",
       "    .dataframe tbody tr th {\n",
       "        vertical-align: top;\n",
       "    }\n",
       "\n",
       "    .dataframe thead th {\n",
       "        text-align: right;\n",
       "    }\n",
       "</style>\n",
       "<table border=\"1\" class=\"dataframe\">\n",
       "  <thead>\n",
       "    <tr style=\"text-align: right;\">\n",
       "      <th></th>\n",
       "      <th>Date</th>\n",
       "      <th>Global_active_power</th>\n",
       "      <th>Global_reactive_power</th>\n",
       "      <th>Global_intensity</th>\n",
       "      <th>Sub_metering_1</th>\n",
       "      <th>Sub_metering_2</th>\n",
       "      <th>Sub_metering_3</th>\n",
       "    </tr>\n",
       "  </thead>\n",
       "  <tbody>\n",
       "    <tr>\n",
       "      <th>0</th>\n",
       "      <td>0.0</td>\n",
       "      <td>0.413684</td>\n",
       "      <td>0.359788</td>\n",
       "      <td>0.403361</td>\n",
       "      <td>0.0</td>\n",
       "      <td>0.0</td>\n",
       "      <td>0.0</td>\n",
       "    </tr>\n",
       "    <tr>\n",
       "      <th>1</th>\n",
       "      <td>0.0</td>\n",
       "      <td>0.408772</td>\n",
       "      <td>0.264550</td>\n",
       "      <td>0.394958</td>\n",
       "      <td>0.0</td>\n",
       "      <td>0.0</td>\n",
       "      <td>0.0</td>\n",
       "    </tr>\n",
       "    <tr>\n",
       "      <th>2</th>\n",
       "      <td>0.0</td>\n",
       "      <td>0.408421</td>\n",
       "      <td>0.264550</td>\n",
       "      <td>0.394958</td>\n",
       "      <td>0.0</td>\n",
       "      <td>0.0</td>\n",
       "      <td>0.0</td>\n",
       "    </tr>\n",
       "    <tr>\n",
       "      <th>3</th>\n",
       "      <td>0.0</td>\n",
       "      <td>0.408421</td>\n",
       "      <td>0.264550</td>\n",
       "      <td>0.394958</td>\n",
       "      <td>0.0</td>\n",
       "      <td>0.0</td>\n",
       "      <td>0.0</td>\n",
       "    </tr>\n",
       "    <tr>\n",
       "      <th>4</th>\n",
       "      <td>0.0</td>\n",
       "      <td>0.409123</td>\n",
       "      <td>0.264550</td>\n",
       "      <td>0.394958</td>\n",
       "      <td>0.0</td>\n",
       "      <td>0.0</td>\n",
       "      <td>0.0</td>\n",
       "    </tr>\n",
       "  </tbody>\n",
       "</table>\n",
       "</div>"
      ],
      "text/plain": [
       "   Date  Global_active_power  Global_reactive_power  Global_intensity  \\\n",
       "0   0.0             0.413684               0.359788          0.403361   \n",
       "1   0.0             0.408772               0.264550          0.394958   \n",
       "2   0.0             0.408421               0.264550          0.394958   \n",
       "3   0.0             0.408421               0.264550          0.394958   \n",
       "4   0.0             0.409123               0.264550          0.394958   \n",
       "\n",
       "   Sub_metering_1  Sub_metering_2  Sub_metering_3  \n",
       "0             0.0             0.0             0.0  \n",
       "1             0.0             0.0             0.0  \n",
       "2             0.0             0.0             0.0  \n",
       "3             0.0             0.0             0.0  \n",
       "4             0.0             0.0             0.0  "
      ]
     },
     "execution_count": 38,
     "metadata": {},
     "output_type": "execute_result"
    }
   ],
   "source": [
    "x.head()"
   ]
  },
  {
   "cell_type": "code",
   "execution_count": 39,
   "id": "1f6f52f6-4a3d-438d-baa5-c6d6fddc742f",
   "metadata": {},
   "outputs": [
    {
     "data": {
      "text/plain": [
       "0    241.97\n",
       "1    241.75\n",
       "2    241.64\n",
       "3    241.71\n",
       "4    241.98\n",
       "Name: Voltage, dtype: float64"
      ]
     },
     "execution_count": 39,
     "metadata": {},
     "output_type": "execute_result"
    }
   ],
   "source": [
    "y.head()"
   ]
  },
  {
   "cell_type": "code",
   "execution_count": 40,
   "id": "233cfec3-d8ee-4613-ab4f-03b3631888e7",
   "metadata": {},
   "outputs": [
    {
     "data": {
      "text/html": [
       "<div>\n",
       "<style scoped>\n",
       "    .dataframe tbody tr th:only-of-type {\n",
       "        vertical-align: middle;\n",
       "    }\n",
       "\n",
       "    .dataframe tbody tr th {\n",
       "        vertical-align: top;\n",
       "    }\n",
       "\n",
       "    .dataframe thead th {\n",
       "        text-align: right;\n",
       "    }\n",
       "</style>\n",
       "<table border=\"1\" class=\"dataframe\">\n",
       "  <thead>\n",
       "    <tr style=\"text-align: right;\">\n",
       "      <th></th>\n",
       "      <th>Date</th>\n",
       "      <th>Global_active_power</th>\n",
       "      <th>Global_reactive_power</th>\n",
       "      <th>Global_intensity</th>\n",
       "      <th>Sub_metering_1</th>\n",
       "      <th>Sub_metering_2</th>\n",
       "      <th>Sub_metering_3</th>\n",
       "      <th>Voltage</th>\n",
       "    </tr>\n",
       "  </thead>\n",
       "  <tbody>\n",
       "    <tr>\n",
       "      <th>0</th>\n",
       "      <td>0.000</td>\n",
       "      <td>0.413684</td>\n",
       "      <td>0.359788</td>\n",
       "      <td>0.403361</td>\n",
       "      <td>0.000000</td>\n",
       "      <td>0.0</td>\n",
       "      <td>0.0</td>\n",
       "      <td>241.97</td>\n",
       "    </tr>\n",
       "    <tr>\n",
       "      <th>1</th>\n",
       "      <td>0.000</td>\n",
       "      <td>0.408772</td>\n",
       "      <td>0.264550</td>\n",
       "      <td>0.394958</td>\n",
       "      <td>0.000000</td>\n",
       "      <td>0.0</td>\n",
       "      <td>0.0</td>\n",
       "      <td>241.75</td>\n",
       "    </tr>\n",
       "    <tr>\n",
       "      <th>2</th>\n",
       "      <td>0.000</td>\n",
       "      <td>0.408421</td>\n",
       "      <td>0.264550</td>\n",
       "      <td>0.394958</td>\n",
       "      <td>0.000000</td>\n",
       "      <td>0.0</td>\n",
       "      <td>0.0</td>\n",
       "      <td>241.64</td>\n",
       "    </tr>\n",
       "    <tr>\n",
       "      <th>3</th>\n",
       "      <td>0.000</td>\n",
       "      <td>0.408421</td>\n",
       "      <td>0.264550</td>\n",
       "      <td>0.394958</td>\n",
       "      <td>0.000000</td>\n",
       "      <td>0.0</td>\n",
       "      <td>0.0</td>\n",
       "      <td>241.71</td>\n",
       "    </tr>\n",
       "    <tr>\n",
       "      <th>4</th>\n",
       "      <td>0.000</td>\n",
       "      <td>0.409123</td>\n",
       "      <td>0.264550</td>\n",
       "      <td>0.394958</td>\n",
       "      <td>0.000000</td>\n",
       "      <td>0.0</td>\n",
       "      <td>0.0</td>\n",
       "      <td>241.98</td>\n",
       "    </tr>\n",
       "    <tr>\n",
       "      <th>...</th>\n",
       "      <td>...</td>\n",
       "      <td>...</td>\n",
       "      <td>...</td>\n",
       "      <td>...</td>\n",
       "      <td>...</td>\n",
       "      <td>...</td>\n",
       "      <td>...</td>\n",
       "      <td>...</td>\n",
       "    </tr>\n",
       "    <tr>\n",
       "      <th>1088</th>\n",
       "      <td>0.375</td>\n",
       "      <td>0.456491</td>\n",
       "      <td>0.476190</td>\n",
       "      <td>0.453782</td>\n",
       "      <td>0.948718</td>\n",
       "      <td>0.0</td>\n",
       "      <td>0.0</td>\n",
       "      <td>238.43</td>\n",
       "    </tr>\n",
       "    <tr>\n",
       "      <th>1089</th>\n",
       "      <td>0.375</td>\n",
       "      <td>0.457895</td>\n",
       "      <td>0.481481</td>\n",
       "      <td>0.453782</td>\n",
       "      <td>0.974359</td>\n",
       "      <td>0.0</td>\n",
       "      <td>0.0</td>\n",
       "      <td>238.64</td>\n",
       "    </tr>\n",
       "    <tr>\n",
       "      <th>1090</th>\n",
       "      <td>0.375</td>\n",
       "      <td>0.457193</td>\n",
       "      <td>0.481481</td>\n",
       "      <td>0.453782</td>\n",
       "      <td>0.974359</td>\n",
       "      <td>0.0</td>\n",
       "      <td>0.0</td>\n",
       "      <td>238.85</td>\n",
       "    </tr>\n",
       "    <tr>\n",
       "      <th>1091</th>\n",
       "      <td>0.375</td>\n",
       "      <td>0.333684</td>\n",
       "      <td>0.507937</td>\n",
       "      <td>0.369748</td>\n",
       "      <td>0.717949</td>\n",
       "      <td>0.0</td>\n",
       "      <td>0.0</td>\n",
       "      <td>239.51</td>\n",
       "    </tr>\n",
       "    <tr>\n",
       "      <th>1092</th>\n",
       "      <td>0.375</td>\n",
       "      <td>0.060702</td>\n",
       "      <td>0.534392</td>\n",
       "      <td>0.075630</td>\n",
       "      <td>0.000000</td>\n",
       "      <td>0.0</td>\n",
       "      <td>0.0</td>\n",
       "      <td>241.03</td>\n",
       "    </tr>\n",
       "  </tbody>\n",
       "</table>\n",
       "<p>1093 rows × 8 columns</p>\n",
       "</div>"
      ],
      "text/plain": [
       "       Date  Global_active_power  Global_reactive_power  Global_intensity  \\\n",
       "0     0.000             0.413684               0.359788          0.403361   \n",
       "1     0.000             0.408772               0.264550          0.394958   \n",
       "2     0.000             0.408421               0.264550          0.394958   \n",
       "3     0.000             0.408421               0.264550          0.394958   \n",
       "4     0.000             0.409123               0.264550          0.394958   \n",
       "...     ...                  ...                    ...               ...   \n",
       "1088  0.375             0.456491               0.476190          0.453782   \n",
       "1089  0.375             0.457895               0.481481          0.453782   \n",
       "1090  0.375             0.457193               0.481481          0.453782   \n",
       "1091  0.375             0.333684               0.507937          0.369748   \n",
       "1092  0.375             0.060702               0.534392          0.075630   \n",
       "\n",
       "      Sub_metering_1  Sub_metering_2  Sub_metering_3  Voltage  \n",
       "0           0.000000             0.0             0.0   241.97  \n",
       "1           0.000000             0.0             0.0   241.75  \n",
       "2           0.000000             0.0             0.0   241.64  \n",
       "3           0.000000             0.0             0.0   241.71  \n",
       "4           0.000000             0.0             0.0   241.98  \n",
       "...              ...             ...             ...      ...  \n",
       "1088        0.948718             0.0             0.0   238.43  \n",
       "1089        0.974359             0.0             0.0   238.64  \n",
       "1090        0.974359             0.0             0.0   238.85  \n",
       "1091        0.717949             0.0             0.0   239.51  \n",
       "1092        0.000000             0.0             0.0   241.03  \n",
       "\n",
       "[1093 rows x 8 columns]"
      ]
     },
     "execution_count": 40,
     "metadata": {},
     "output_type": "execute_result"
    }
   ],
   "source": [
    "output=pd.concat([x,y],axis=1)\n",
    "output"
   ]
  },
  {
   "cell_type": "code",
   "execution_count": 41,
   "id": "68d853f1-df52-4746-b201-410178c41a9f",
   "metadata": {},
   "outputs": [
    {
     "data": {
      "text/html": [
       "<div>\n",
       "<style scoped>\n",
       "    .dataframe tbody tr th:only-of-type {\n",
       "        vertical-align: middle;\n",
       "    }\n",
       "\n",
       "    .dataframe tbody tr th {\n",
       "        vertical-align: top;\n",
       "    }\n",
       "\n",
       "    .dataframe thead th {\n",
       "        text-align: right;\n",
       "    }\n",
       "</style>\n",
       "<table border=\"1\" class=\"dataframe\">\n",
       "  <thead>\n",
       "    <tr style=\"text-align: right;\">\n",
       "      <th></th>\n",
       "      <th>Date</th>\n",
       "      <th>Global_active_power</th>\n",
       "      <th>Global_reactive_power</th>\n",
       "      <th>Global_intensity</th>\n",
       "      <th>Sub_metering_1</th>\n",
       "      <th>Sub_metering_2</th>\n",
       "      <th>Sub_metering_3</th>\n",
       "      <th>Voltage</th>\n",
       "    </tr>\n",
       "  </thead>\n",
       "  <tbody>\n",
       "    <tr>\n",
       "      <th>count</th>\n",
       "      <td>1093.000000</td>\n",
       "      <td>1093.000000</td>\n",
       "      <td>1093.000000</td>\n",
       "      <td>1093.000000</td>\n",
       "      <td>1093.000000</td>\n",
       "      <td>1093.000000</td>\n",
       "      <td>1093.000000</td>\n",
       "      <td>1093.000000</td>\n",
       "    </tr>\n",
       "    <tr>\n",
       "      <th>mean</th>\n",
       "      <td>0.672347</td>\n",
       "      <td>0.171045</td>\n",
       "      <td>0.286407</td>\n",
       "      <td>0.169713</td>\n",
       "      <td>0.048608</td>\n",
       "      <td>0.018814</td>\n",
       "      <td>0.146964</td>\n",
       "      <td>242.029076</td>\n",
       "    </tr>\n",
       "    <tr>\n",
       "      <th>std</th>\n",
       "      <td>0.305137</td>\n",
       "      <td>0.197020</td>\n",
       "      <td>0.234148</td>\n",
       "      <td>0.194577</td>\n",
       "      <td>0.199953</td>\n",
       "      <td>0.108923</td>\n",
       "      <td>0.337029</td>\n",
       "      <td>3.187103</td>\n",
       "    </tr>\n",
       "    <tr>\n",
       "      <th>min</th>\n",
       "      <td>0.000000</td>\n",
       "      <td>0.000000</td>\n",
       "      <td>0.000000</td>\n",
       "      <td>0.000000</td>\n",
       "      <td>0.000000</td>\n",
       "      <td>0.000000</td>\n",
       "      <td>0.000000</td>\n",
       "      <td>232.010000</td>\n",
       "    </tr>\n",
       "    <tr>\n",
       "      <th>25%</th>\n",
       "      <td>0.500000</td>\n",
       "      <td>0.020351</td>\n",
       "      <td>0.000000</td>\n",
       "      <td>0.025210</td>\n",
       "      <td>0.000000</td>\n",
       "      <td>0.000000</td>\n",
       "      <td>0.000000</td>\n",
       "      <td>240.920000</td>\n",
       "    </tr>\n",
       "    <tr>\n",
       "      <th>50%</th>\n",
       "      <td>0.750000</td>\n",
       "      <td>0.086316</td>\n",
       "      <td>0.301587</td>\n",
       "      <td>0.084034</td>\n",
       "      <td>0.000000</td>\n",
       "      <td>0.000000</td>\n",
       "      <td>0.000000</td>\n",
       "      <td>242.580000</td>\n",
       "    </tr>\n",
       "    <tr>\n",
       "      <th>75%</th>\n",
       "      <td>1.000000</td>\n",
       "      <td>0.304561</td>\n",
       "      <td>0.465608</td>\n",
       "      <td>0.302521</td>\n",
       "      <td>0.000000</td>\n",
       "      <td>0.000000</td>\n",
       "      <td>0.000000</td>\n",
       "      <td>244.190000</td>\n",
       "    </tr>\n",
       "    <tr>\n",
       "      <th>max</th>\n",
       "      <td>1.000000</td>\n",
       "      <td>1.000000</td>\n",
       "      <td>1.000000</td>\n",
       "      <td>1.000000</td>\n",
       "      <td>1.000000</td>\n",
       "      <td>1.000000</td>\n",
       "      <td>1.000000</td>\n",
       "      <td>248.530000</td>\n",
       "    </tr>\n",
       "  </tbody>\n",
       "</table>\n",
       "</div>"
      ],
      "text/plain": [
       "              Date  Global_active_power  Global_reactive_power  \\\n",
       "count  1093.000000          1093.000000            1093.000000   \n",
       "mean      0.672347             0.171045               0.286407   \n",
       "std       0.305137             0.197020               0.234148   \n",
       "min       0.000000             0.000000               0.000000   \n",
       "25%       0.500000             0.020351               0.000000   \n",
       "50%       0.750000             0.086316               0.301587   \n",
       "75%       1.000000             0.304561               0.465608   \n",
       "max       1.000000             1.000000               1.000000   \n",
       "\n",
       "       Global_intensity  Sub_metering_1  Sub_metering_2  Sub_metering_3  \\\n",
       "count       1093.000000     1093.000000     1093.000000     1093.000000   \n",
       "mean           0.169713        0.048608        0.018814        0.146964   \n",
       "std            0.194577        0.199953        0.108923        0.337029   \n",
       "min            0.000000        0.000000        0.000000        0.000000   \n",
       "25%            0.025210        0.000000        0.000000        0.000000   \n",
       "50%            0.084034        0.000000        0.000000        0.000000   \n",
       "75%            0.302521        0.000000        0.000000        0.000000   \n",
       "max            1.000000        1.000000        1.000000        1.000000   \n",
       "\n",
       "           Voltage  \n",
       "count  1093.000000  \n",
       "mean    242.029076  \n",
       "std       3.187103  \n",
       "min     232.010000  \n",
       "25%     240.920000  \n",
       "50%     242.580000  \n",
       "75%     244.190000  \n",
       "max     248.530000  "
      ]
     },
     "execution_count": 41,
     "metadata": {},
     "output_type": "execute_result"
    }
   ],
   "source": [
    "output.describe()"
   ]
  },
  {
   "cell_type": "code",
   "execution_count": null,
   "id": "20dd932d-ab31-47f7-ae2f-a5a47dd50d13",
   "metadata": {},
   "outputs": [],
   "source": []
  },
  {
   "cell_type": "code",
   "execution_count": null,
   "id": "707fec1e-dcc8-4f81-b1e0-9006799c6b6b",
   "metadata": {},
   "outputs": [],
   "source": []
  },
  {
   "cell_type": "code",
   "execution_count": 42,
   "id": "49f4c153-5ca6-4d4d-ac5f-737219d40f63",
   "metadata": {},
   "outputs": [
    {
     "data": {
      "text/html": [
       "<div>\n",
       "<style scoped>\n",
       "    .dataframe tbody tr th:only-of-type {\n",
       "        vertical-align: middle;\n",
       "    }\n",
       "\n",
       "    .dataframe tbody tr th {\n",
       "        vertical-align: top;\n",
       "    }\n",
       "\n",
       "    .dataframe thead th {\n",
       "        text-align: right;\n",
       "    }\n",
       "</style>\n",
       "<table border=\"1\" class=\"dataframe\">\n",
       "  <thead>\n",
       "    <tr style=\"text-align: right;\">\n",
       "      <th></th>\n",
       "      <th>Date</th>\n",
       "      <th>Global_active_power</th>\n",
       "      <th>Global_reactive_power</th>\n",
       "      <th>Global_intensity</th>\n",
       "      <th>Sub_metering_1</th>\n",
       "      <th>Sub_metering_2</th>\n",
       "      <th>Sub_metering_3</th>\n",
       "      <th>Voltage</th>\n",
       "    </tr>\n",
       "  </thead>\n",
       "  <tbody>\n",
       "    <tr>\n",
       "      <th>Date</th>\n",
       "      <td>1.000000</td>\n",
       "      <td>-0.140727</td>\n",
       "      <td>0.226401</td>\n",
       "      <td>-0.136044</td>\n",
       "      <td>-0.055650</td>\n",
       "      <td>0.035432</td>\n",
       "      <td>-0.238375</td>\n",
       "      <td>0.221951</td>\n",
       "    </tr>\n",
       "    <tr>\n",
       "      <th>Global_active_power</th>\n",
       "      <td>-0.140727</td>\n",
       "      <td>1.000000</td>\n",
       "      <td>-0.065693</td>\n",
       "      <td>0.999190</td>\n",
       "      <td>0.471420</td>\n",
       "      <td>0.439785</td>\n",
       "      <td>0.220499</td>\n",
       "      <td>-0.393192</td>\n",
       "    </tr>\n",
       "    <tr>\n",
       "      <th>Global_reactive_power</th>\n",
       "      <td>0.226401</td>\n",
       "      <td>-0.065693</td>\n",
       "      <td>1.000000</td>\n",
       "      <td>-0.056535</td>\n",
       "      <td>-0.111947</td>\n",
       "      <td>0.064228</td>\n",
       "      <td>-0.065245</td>\n",
       "      <td>0.199377</td>\n",
       "    </tr>\n",
       "    <tr>\n",
       "      <th>Global_intensity</th>\n",
       "      <td>-0.136044</td>\n",
       "      <td>0.999190</td>\n",
       "      <td>-0.056535</td>\n",
       "      <td>1.000000</td>\n",
       "      <td>0.483827</td>\n",
       "      <td>0.443403</td>\n",
       "      <td>0.216347</td>\n",
       "      <td>-0.402340</td>\n",
       "    </tr>\n",
       "    <tr>\n",
       "      <th>Sub_metering_1</th>\n",
       "      <td>-0.055650</td>\n",
       "      <td>0.471420</td>\n",
       "      <td>-0.111947</td>\n",
       "      <td>0.483827</td>\n",
       "      <td>1.000000</td>\n",
       "      <td>0.011269</td>\n",
       "      <td>0.051812</td>\n",
       "      <td>-0.420770</td>\n",
       "    </tr>\n",
       "    <tr>\n",
       "      <th>Sub_metering_2</th>\n",
       "      <td>0.035432</td>\n",
       "      <td>0.439785</td>\n",
       "      <td>0.064228</td>\n",
       "      <td>0.443403</td>\n",
       "      <td>0.011269</td>\n",
       "      <td>1.000000</td>\n",
       "      <td>-0.040614</td>\n",
       "      <td>-0.082788</td>\n",
       "    </tr>\n",
       "    <tr>\n",
       "      <th>Sub_metering_3</th>\n",
       "      <td>-0.238375</td>\n",
       "      <td>0.220499</td>\n",
       "      <td>-0.065245</td>\n",
       "      <td>0.216347</td>\n",
       "      <td>0.051812</td>\n",
       "      <td>-0.040614</td>\n",
       "      <td>1.000000</td>\n",
       "      <td>-0.369179</td>\n",
       "    </tr>\n",
       "    <tr>\n",
       "      <th>Voltage</th>\n",
       "      <td>0.221951</td>\n",
       "      <td>-0.393192</td>\n",
       "      <td>0.199377</td>\n",
       "      <td>-0.402340</td>\n",
       "      <td>-0.420770</td>\n",
       "      <td>-0.082788</td>\n",
       "      <td>-0.369179</td>\n",
       "      <td>1.000000</td>\n",
       "    </tr>\n",
       "  </tbody>\n",
       "</table>\n",
       "</div>"
      ],
      "text/plain": [
       "                           Date  Global_active_power  Global_reactive_power  \\\n",
       "Date                   1.000000            -0.140727               0.226401   \n",
       "Global_active_power   -0.140727             1.000000              -0.065693   \n",
       "Global_reactive_power  0.226401            -0.065693               1.000000   \n",
       "Global_intensity      -0.136044             0.999190              -0.056535   \n",
       "Sub_metering_1        -0.055650             0.471420              -0.111947   \n",
       "Sub_metering_2         0.035432             0.439785               0.064228   \n",
       "Sub_metering_3        -0.238375             0.220499              -0.065245   \n",
       "Voltage                0.221951            -0.393192               0.199377   \n",
       "\n",
       "                       Global_intensity  Sub_metering_1  Sub_metering_2  \\\n",
       "Date                          -0.136044       -0.055650        0.035432   \n",
       "Global_active_power            0.999190        0.471420        0.439785   \n",
       "Global_reactive_power         -0.056535       -0.111947        0.064228   \n",
       "Global_intensity               1.000000        0.483827        0.443403   \n",
       "Sub_metering_1                 0.483827        1.000000        0.011269   \n",
       "Sub_metering_2                 0.443403        0.011269        1.000000   \n",
       "Sub_metering_3                 0.216347        0.051812       -0.040614   \n",
       "Voltage                       -0.402340       -0.420770       -0.082788   \n",
       "\n",
       "                       Sub_metering_3   Voltage  \n",
       "Date                        -0.238375  0.221951  \n",
       "Global_active_power          0.220499 -0.393192  \n",
       "Global_reactive_power       -0.065245  0.199377  \n",
       "Global_intensity             0.216347 -0.402340  \n",
       "Sub_metering_1               0.051812 -0.420770  \n",
       "Sub_metering_2              -0.040614 -0.082788  \n",
       "Sub_metering_3               1.000000 -0.369179  \n",
       "Voltage                     -0.369179  1.000000  "
      ]
     },
     "execution_count": 42,
     "metadata": {},
     "output_type": "execute_result"
    }
   ],
   "source": [
    "output.corr()"
   ]
  },
  {
   "cell_type": "code",
   "execution_count": 43,
   "id": "e748e0ee-f52b-4de7-bc82-4b47049b3d7d",
   "metadata": {},
   "outputs": [
    {
     "data": {
      "text/plain": [
       "<Axes: >"
      ]
     },
     "execution_count": 43,
     "metadata": {},
     "output_type": "execute_result"
    },
    {
     "data": {
      "image/png": "[encoded data removed]",
      "text/plain": [
       "<Figure size 640x480 with 2 Axes>"
      ]
     },
     "metadata": {},
     "output_type": "display_data"
    }
   ],
   "source": [
    "sns.heatmap(output.corr())"
   ]
  },
  {
   "cell_type": "markdown",
   "id": "0b1e020c-8ca9-4c0e-a3e3-791a55f73b96",
   "metadata": {},
   "source": [
    "# DATA VISUALISATION"
   ]
  },
  {
   "cell_type": "code",
   "execution_count": 44,
   "id": "8df5a208-6e85-4ee0-a96d-daca40917d94",
   "metadata": {},
   "outputs": [
    {
     "name": "stderr",
     "output_type": "stream",
     "text": [
      "C:\\Users\\Asus\\AppData\\Local\\Temp\\ipykernel_12132\\3683143209.py:1: UserWarning: \n",
      "\n",
      "`distplot` is a deprecated function and will be removed in seaborn v0.14.0.\n",
      "\n",
      "Please adapt your code to use either `displot` (a figure-level function with\n",
      "similar flexibility) or `histplot` (an axes-level function for histograms).\n",
      "\n",
      "For a guide to updating your code to use the new functions, please see\n",
      "https://gist.github.com/mwaskom/de44147ed2974457ad6372750bbe5751\n",
      "\n",
      "  sns.distplot(output['Voltage'],color='r')\n"
     ]
    },
    {
     "data": {
      "text/plain": [
       "<Axes: xlabel='Voltage', ylabel='Density'>"
      ]
     },
     "execution_count": 44,
     "metadata": {},
     "output_type": "execute_result"
    },
    {
     "data": {
      "image/png": "[encoded data removed]",
      "text/plain": [
       "<Figure size 640x480 with 1 Axes>"
      ]
     },
     "metadata": {},
     "output_type": "display_data"
    }
   ],
   "source": [
    "sns.distplot(output['Voltage'],color='r')"
   ]
  },
  {
   "cell_type": "code",
   "execution_count": 45,
   "id": "15cf0b39-7703-42b2-976a-b14aff08d63e",
   "metadata": {},
   "outputs": [
    {
     "name": "stderr",
     "output_type": "stream",
     "text": [
      "C:\\Users\\Asus\\AppData\\Local\\Temp\\ipykernel_12132\\1204667466.py:1: UserWarning: \n",
      "\n",
      "`distplot` is a deprecated function and will be removed in seaborn v0.14.0.\n",
      "\n",
      "Please adapt your code to use either `displot` (a figure-level function with\n",
      "similar flexibility) or `histplot` (an axes-level function for histograms).\n",
      "\n",
      "For a guide to updating your code to use the new functions, please see\n",
      "https://gist.github.com/mwaskom/de44147ed2974457ad6372750bbe5751\n",
      "\n",
      "  sns.distplot(output['Global_active_power'],kde=False,color='b')\n"
     ]
    },
    {
     "data": {
      "text/plain": [
       "<Axes: xlabel='Global_active_power'>"
      ]
     },
     "execution_count": 45,
     "metadata": {},
     "output_type": "execute_result"
    },
    {
     "data": {
      "image/png": "[encoded data removed]",
      "text/plain": [
       "<Figure size 640x480 with 1 Axes>"
      ]
     },
     "metadata": {},
     "output_type": "display_data"
    }
   ],
   "source": [
    "sns.distplot(output['Global_active_power'],kde=False,color='b')"
   ]
  },
  {
   "cell_type": "code",
   "execution_count": 46,
   "id": "d9754a61-912a-45fa-93e4-707022587711",
   "metadata": {},
   "outputs": [
    {
     "data": {
      "text/plain": [
       "<seaborn.axisgrid.JointGrid at 0x1a47e1a54d0>"
      ]
     },
     "execution_count": 46,
     "metadata": {},
     "output_type": "execute_result"
    },
    {
     "data": {
      "image/png": "[encoded data removed]",
      "text/plain": [
       "<Figure size 600x600 with 3 Axes>"
      ]
     },
     "metadata": {},
     "output_type": "display_data"
    }
   ],
   "source": [
    "sns.jointplot(x='Date', y='Voltage',color='y',data=output)"
   ]
  },
  {
   "cell_type": "markdown",
   "id": "32bdad16-8b23-4cfd-904c-f6e89d1b7f74",
   "metadata": {},
   "source": [
    "# Model Training"
   ]
  },
  {
   "cell_type": "markdown",
   "id": "f2f88b94-b4f2-4fc3-9348-bb1fe13a2d64",
   "metadata": {},
   "source": [
    "# Linear Regression"
   ]
  },
  {
   "cell_type": "code",
   "execution_count": 47,
   "id": "bdfe07e5-03a7-4495-a02e-523e43cd7178",
   "metadata": {},
   "outputs": [],
   "source": [
    "x=output.drop('Voltage',axis=1)\n",
    "y=output['Voltage']"
   ]
  },
  {
   "cell_type": "code",
   "execution_count": 48,
   "id": "431c0d39-2829-4754-ade8-1df541a1a852",
   "metadata": {},
   "outputs": [],
   "source": [
    "from sklearn.model_selection import train_test_split"
   ]
  },
  {
   "cell_type": "code",
   "execution_count": 49,
   "id": "2c34f01c-92f4-444f-87c9-2a3aa852f3fe",
   "metadata": {},
   "outputs": [],
   "source": [
    "x_train,x_test,y_train,y_test=train_test_split(x,y,test_size=0.25,random_state=42)"
   ]
  },
  {
   "cell_type": "code",
   "execution_count": 50,
   "id": "f272e5e0-b966-441f-bd82-37c55072c0dc",
   "metadata": {},
   "outputs": [],
   "source": [
    "from sklearn.linear_model import LinearRegression"
   ]
  },
  {
   "cell_type": "code",
   "execution_count": 51,
   "id": "46d22d5a-c139-4dcc-b967-b3e75e9d61b9",
   "metadata": {},
   "outputs": [],
   "source": [
    "lr=LinearRegression()"
   ]
  },
  {
   "cell_type": "code",
   "execution_count": 52,
   "id": "5467d188-9280-4678-aa9c-91d00a6bb65b",
   "metadata": {},
   "outputs": [],
   "source": [
    "model_lr=lr.fit(x_train,y_train)"
   ]
  },
  {
   "cell_type": "code",
   "execution_count": 53,
   "id": "885817c7-8908-4a63-a557-49482e501636",
   "metadata": {},
   "outputs": [],
   "source": [
    "y_pred=model_lr.predict(x_test)"
   ]
  },
  {
   "cell_type": "code",
   "execution_count": 54,
   "id": "4c8fa425-f7d0-48b0-a22c-e7af67e9b8ce",
   "metadata": {},
   "outputs": [],
   "source": [
    "from sklearn.metrics import mean_squared_error,r2_score"
   ]
  },
  {
   "cell_type": "code",
   "execution_count": 55,
   "id": "962d9a13-179b-42e1-989a-abc7f0d42620",
   "metadata": {},
   "outputs": [
    {
     "name": "stdout",
     "output_type": "stream",
     "text": [
      "6.105059912776888\n"
     ]
    }
   ],
   "source": [
    "print(mean_squared_error(y_test,y_pred))"
   ]
  },
  {
   "cell_type": "code",
   "execution_count": 56,
   "id": "be4c745d-6da9-4528-8a10-724ea2d04cba",
   "metadata": {},
   "outputs": [
    {
     "name": "stdout",
     "output_type": "stream",
     "text": [
      "0.4106455733581311\n"
     ]
    }
   ],
   "source": [
    "print(r2_score(y_test,y_pred))"
   ]
  },
  {
   "cell_type": "code",
   "execution_count": 57,
   "id": "bb918e66-d9f0-4886-9c44-d692e737b25c",
   "metadata": {},
   "outputs": [],
   "source": [
    "# Accuracy 41%"
   ]
  },
  {
   "cell_type": "markdown",
   "id": "e9f70829-66ba-4f7b-81cf-76d3aea39fad",
   "metadata": {},
   "source": [
    "# KNN"
   ]
  },
  {
   "cell_type": "code",
   "execution_count": 58,
   "id": "02122ae4-7680-4af1-b6d0-4b9f62ac7068",
   "metadata": {},
   "outputs": [],
   "source": [
    "from sklearn.model_selection import train_test_split\n",
    "x_train,x_test,y_train,y_test=train_test_split(x,y,test_size=0.25,random_state=42)"
   ]
  },
  {
   "cell_type": "code",
   "execution_count": 59,
   "id": "fef1baca-df80-4c06-abb1-c7c0c52d8273",
   "metadata": {},
   "outputs": [],
   "source": [
    "from sklearn.neighbors import KNeighborsRegressor"
   ]
  },
  {
   "cell_type": "code",
   "execution_count": 60,
   "id": "0560a5c6-fdd6-436a-a300-fb3653fc407a",
   "metadata": {},
   "outputs": [],
   "source": [
    "metric_k=[]"
   ]
  },
  {
   "cell_type": "code",
   "execution_count": 61,
   "id": "1e6badbc-31ca-479f-ac77-0921794294ea",
   "metadata": {},
   "outputs": [],
   "source": [
    "neighbors=np.arange(2,13)"
   ]
  },
  {
   "cell_type": "code",
   "execution_count": 62,
   "id": "252d1118-bf3d-4b3e-8661-501a9f9c7b0f",
   "metadata": {},
   "outputs": [],
   "source": [
    "for k in neighbors:\n",
    "    knn=KNeighborsRegressor(n_neighbors=k)\n",
    "    model_knn=knn.fit(x_train,y_train)\n",
    "    y_pred_knn=model_knn.predict(x_test)\n",
    "    accuracy=r2_score(y_test,y_pred_knn)\n",
    "    metric_k.append(accuracy)"
   ]
  },
  {
   "cell_type": "code",
   "execution_count": 63,
   "id": "b0cfeae0-3260-4707-a53d-8652470d06f8",
   "metadata": {},
   "outputs": [
    {
     "data": {
      "text/plain": [
       "[0.850140737325899,\n",
       " 0.8459847540960459,\n",
       " 0.8394714964743659,\n",
       " 0.8252310978080912,\n",
       " 0.8119305318618975,\n",
       " 0.8008224550148016,\n",
       " 0.7885320465693557,\n",
       " 0.7782055143205681,\n",
       " 0.7712280927315243,\n",
       " 0.7602053768316779,\n",
       " 0.7487615360708343]"
      ]
     },
     "execution_count": 63,
     "metadata": {},
     "output_type": "execute_result"
    }
   ],
   "source": [
    "metric_k"
   ]
  },
  {
   "cell_type": "code",
   "execution_count": 64,
   "id": "90911daf-127e-4793-8845-0ecd7281836e",
   "metadata": {},
   "outputs": [
    {
     "data": {
      "image/png": "[encoded data removed]",
      "text/plain": [
       "<Figure size 640x480 with 1 Axes>"
      ]
     },
     "metadata": {},
     "output_type": "display_data"
    }
   ],
   "source": [
    "plt.plot(neighbors,metric_k,'*--',color='r')\n",
    "plt.xlabel('K Value')\n",
    "plt.ylabel('Accuracy')\n",
    "plt.grid()"
   ]
  },
  {
   "cell_type": "code",
   "execution_count": 111,
   "id": "8f135359-00fd-4073-9e03-acac7366c7c8",
   "metadata": {},
   "outputs": [],
   "source": [
    "knn=KNeighborsRegressor(n_neighbors=2)\n",
    "model_knn=knn.fit(x_train,y_train)\n",
    "y_pred_knn=model_knn.predict(x_test)"
   ]
  },
  {
   "cell_type": "code",
   "execution_count": 112,
   "id": "e5f472f8-b095-45b0-b4c7-ddf7b8b96dc0",
   "metadata": {},
   "outputs": [],
   "source": [
    "from sklearn.metrics import mean_squared_error,r2_score"
   ]
  },
  {
   "cell_type": "code",
   "execution_count": 113,
   "id": "2a682f7a-6807-4115-87dd-f576e980ece7",
   "metadata": {},
   "outputs": [
    {
     "name": "stdout",
     "output_type": "stream",
     "text": [
      "1.5523761861313887\n"
     ]
    }
   ],
   "source": [
    "print(mean_squared_error(y_test,y_pred_knn))"
   ]
  },
  {
   "cell_type": "code",
   "execution_count": 114,
   "id": "d7cb16b3-5840-48a9-8fd7-46a182301149",
   "metadata": {},
   "outputs": [
    {
     "name": "stdout",
     "output_type": "stream",
     "text": [
      "0.850140737325899\n"
     ]
    }
   ],
   "source": [
    "print(r2_score(y_test,y_pred_knn))"
   ]
  },
  {
   "cell_type": "code",
   "execution_count": 115,
   "id": "f5309d53-82d8-4fc3-8235-af837cd3fb34",
   "metadata": {},
   "outputs": [],
   "source": [
    "# Accuracy 85%"
   ]
  },
  {
   "cell_type": "markdown",
   "id": "ab6d13c8-a611-4ba9-8025-265b41115e95",
   "metadata": {},
   "source": [
    "# SVM"
   ]
  },
  {
   "cell_type": "code",
   "execution_count": 70,
   "id": "27fbb8c4-3fce-42b8-a608-cea69e2c7831",
   "metadata": {},
   "outputs": [],
   "source": [
    "from sklearn.model_selection import train_test_split"
   ]
  },
  {
   "cell_type": "code",
   "execution_count": 71,
   "id": "a0bea8d4-3ed9-4710-8bef-96ea1018ec61",
   "metadata": {},
   "outputs": [],
   "source": [
    "x_train,x_test,y_train,y_test=train_test_split(x,y,test_size=0.25,random_state=42)"
   ]
  },
  {
   "cell_type": "code",
   "execution_count": 72,
   "id": "8cfb199c-0005-42d4-ba31-a65d2f612615",
   "metadata": {},
   "outputs": [],
   "source": [
    "from sklearn.svm import SVR"
   ]
  },
  {
   "cell_type": "code",
   "execution_count": 73,
   "id": "598bbba2-2aaf-4b78-9806-056798c1ddb0",
   "metadata": {},
   "outputs": [],
   "source": [
    "svm_reg=SVR(kernel='rbf')\n",
    "svm_model=svm_reg.fit(x_train,y_train)\n",
    "y_pred_svm=svm_model.predict(x_test)"
   ]
  },
  {
   "cell_type": "code",
   "execution_count": 74,
   "id": "19065b83-4a7e-49ce-886e-f107d7770907",
   "metadata": {},
   "outputs": [],
   "source": [
    "from sklearn.metrics import mean_squared_error,r2_score"
   ]
  },
  {
   "cell_type": "code",
   "execution_count": 75,
   "id": "cfb7ec68-8970-43df-8150-f0172c274c13",
   "metadata": {},
   "outputs": [
    {
     "name": "stdout",
     "output_type": "stream",
     "text": [
      "5.701611111940821\n"
     ]
    }
   ],
   "source": [
    "print(mean_squared_error(y_test,y_pred_svm))"
   ]
  },
  {
   "cell_type": "code",
   "execution_count": 76,
   "id": "a900b4af-6eb1-4097-89e6-3e643e0c20bd",
   "metadata": {},
   "outputs": [
    {
     "name": "stdout",
     "output_type": "stream",
     "text": [
      "0.4495926664404557\n"
     ]
    }
   ],
   "source": [
    "print(r2_score(y_test,y_pred_svm))"
   ]
  },
  {
   "cell_type": "code",
   "execution_count": 77,
   "id": "142f2d08-4067-4cbf-87c1-2103539c4a6f",
   "metadata": {},
   "outputs": [],
   "source": [
    "# Accuracy 44%"
   ]
  },
  {
   "cell_type": "markdown",
   "id": "a95359ff-9697-4049-addc-dce700f395be",
   "metadata": {},
   "source": [
    "# Decision Tree"
   ]
  },
  {
   "cell_type": "code",
   "execution_count": 78,
   "id": "b6364712-a5b1-47a4-a882-d278d49eff15",
   "metadata": {},
   "outputs": [],
   "source": [
    "from sklearn.tree import DecisionTreeRegressor"
   ]
  },
  {
   "cell_type": "code",
   "execution_count": 79,
   "id": "316d3c37-b369-48aa-b2f8-b0e775c30946",
   "metadata": {},
   "outputs": [],
   "source": [
    "dt_reg= DecisionTreeRegressor(random_state=42)"
   ]
  },
  {
   "cell_type": "code",
   "execution_count": 80,
   "id": "6b4f52d7-2814-49e4-9761-04913a5f48f4",
   "metadata": {},
   "outputs": [],
   "source": [
    "dt_model=dt_reg.fit(x_train,y_train)"
   ]
  },
  {
   "cell_type": "code",
   "execution_count": 81,
   "id": "f15a01b4-137e-4f3c-9aa4-6818c4feb891",
   "metadata": {},
   "outputs": [],
   "source": [
    "y_pred_dt=dt_model.predict(x_test)"
   ]
  },
  {
   "cell_type": "code",
   "execution_count": 82,
   "id": "8187ca45-682a-4240-8d15-9a40bbe4d9fc",
   "metadata": {},
   "outputs": [],
   "source": [
    "from sklearn.metrics import mean_squared_error,r2_score"
   ]
  },
  {
   "cell_type": "code",
   "execution_count": 83,
   "id": "9019c2f6-76d2-44a4-b609-5c2c4ecde272",
   "metadata": {},
   "outputs": [
    {
     "name": "stdout",
     "output_type": "stream",
     "text": [
      "1.7224036163807355\n"
     ]
    }
   ],
   "source": [
    "print(mean_squared_error(y_test,y_pred_dt))"
   ]
  },
  {
   "cell_type": "code",
   "execution_count": 84,
   "id": "1d3bec42-5c19-4a46-b224-9036985a6344",
   "metadata": {},
   "outputs": [
    {
     "name": "stdout",
     "output_type": "stream",
     "text": [
      "0.8337270706134269\n"
     ]
    }
   ],
   "source": [
    "print(r2_score(y_test,y_pred_dt))"
   ]
  },
  {
   "cell_type": "code",
   "execution_count": 85,
   "id": "f88924db-7f22-494f-bbde-0ab477a9be91",
   "metadata": {},
   "outputs": [],
   "source": [
    "# Accuracy 83%"
   ]
  },
  {
   "cell_type": "markdown",
   "id": "b95311ab-7026-4744-b651-4cafe4fbd447",
   "metadata": {},
   "source": [
    "# Random Forest"
   ]
  },
  {
   "cell_type": "code",
   "execution_count": 86,
   "id": "a4b373f5-c29c-4520-8e3d-e2af37fce172",
   "metadata": {},
   "outputs": [],
   "source": [
    "from sklearn.model_selection import train_test_split"
   ]
  },
  {
   "cell_type": "code",
   "execution_count": 87,
   "id": "6f8d9b13-a88c-4e3b-b057-1e76c82fb535",
   "metadata": {},
   "outputs": [],
   "source": [
    "from sklearn.ensemble import RandomForestRegressor"
   ]
  },
  {
   "cell_type": "code",
   "execution_count": 88,
   "id": "9a586041-0310-4399-83fa-877bcaccd908",
   "metadata": {},
   "outputs": [],
   "source": [
    "rf_reg= RandomForestRegressor(random_state=42)"
   ]
  },
  {
   "cell_type": "code",
   "execution_count": 89,
   "id": "e3f4674f-2545-428a-a641-4805823764a9",
   "metadata": {},
   "outputs": [],
   "source": [
    "rf_model=rf_reg.fit(x_train,y_train)"
   ]
  },
  {
   "cell_type": "code",
   "execution_count": 90,
   "id": "0d447629-f671-49f6-abf5-1cf5707d9380",
   "metadata": {},
   "outputs": [],
   "source": [
    "y_pred_rf=rf_model.predict(x_test)"
   ]
  },
  {
   "cell_type": "code",
   "execution_count": 91,
   "id": "15da5c93-35ec-45d7-b34f-5003cfa14a5d",
   "metadata": {},
   "outputs": [],
   "source": [
    "from sklearn.metrics import mean_squared_error,r2_score"
   ]
  },
  {
   "cell_type": "code",
   "execution_count": 92,
   "id": "aea4905d-a1a3-4814-833b-a5a3e2cc7f17",
   "metadata": {},
   "outputs": [
    {
     "name": "stdout",
     "output_type": "stream",
     "text": [
      "0.9938882018811523\n"
     ]
    }
   ],
   "source": [
    "print(mean_squared_error(y_test,y_pred_rf))"
   ]
  },
  {
   "cell_type": "code",
   "execution_count": 93,
   "id": "a6191048-1d0f-461f-9a58-83a54a535001",
   "metadata": {},
   "outputs": [
    {
     "name": "stdout",
     "output_type": "stream",
     "text": [
      "0.904054600653484\n"
     ]
    }
   ],
   "source": [
    "print(r2_score(y_test,y_pred_rf))"
   ]
  },
  {
   "cell_type": "code",
   "execution_count": 94,
   "id": "1718b02e-06e5-4275-bd59-5d674a4ce61a",
   "metadata": {},
   "outputs": [],
   "source": [
    "# Accuracy 90%"
   ]
  },
  {
   "cell_type": "markdown",
   "id": "e7afac12-b38d-4049-b794-4739ba6f6540",
   "metadata": {},
   "source": [
    "# BOOSTING"
   ]
  },
  {
   "cell_type": "markdown",
   "id": "593719f2-4815-4028-a219-47633aff9e2e",
   "metadata": {},
   "source": [
    "## Ada Boost "
   ]
  },
  {
   "cell_type": "code",
   "execution_count": 95,
   "id": "3a8783f1-31f3-4e17-aa86-948f8a9ac628",
   "metadata": {},
   "outputs": [],
   "source": [
    "from sklearn.ensemble import AdaBoostRegressor"
   ]
  },
  {
   "cell_type": "code",
   "execution_count": 96,
   "id": "8e26abd8-02a2-437c-9bb3-8eae999122e0",
   "metadata": {},
   "outputs": [
    {
     "data": {
      "text/plain": [
       "array([242.64691729, 243.00956522, 244.0143007 , 244.01369168,\n",
       "       244.42972696, 244.42972696, 244.01369168, 237.29015625,\n",
       "       237.13083333, 244.52169399, 244.01369168, 244.01369168,\n",
       "       244.01369168, 242.30656757, 242.64691729, 244.01369168,\n",
       "       239.585     , 242.64691729, 244.01369168, 244.42972696,\n",
       "       243.94979112, 244.0143007 , 244.25151648, 243.94979112,\n",
       "       244.0143007 , 244.52169399, 242.73233871, 243.42270213,\n",
       "       244.42972696, 243.94979112, 243.082     , 236.6505    ,\n",
       "       244.01369168, 244.47494867, 244.01369168, 237.29015625,\n",
       "       244.01369168, 236.705     , 244.01369168, 235.65333333,\n",
       "       244.0143007 , 236.705     , 244.30860075, 244.47494867,\n",
       "       237.61942308, 243.41024194, 244.30860075, 242.64691729,\n",
       "       237.29015625, 244.0143007 , 244.01369168, 244.52361616,\n",
       "       243.082     , 244.01369168, 243.42270213, 242.64691729,\n",
       "       244.25151648, 244.01369168, 242.64691729, 244.52169399,\n",
       "       243.43681159, 241.27833333, 244.01369168, 244.01369168,\n",
       "       244.01369168, 243.94979112, 242.46080214, 242.64691729,\n",
       "       239.75      , 243.43681159, 238.58      , 236.71216867,\n",
       "       235.71949367, 244.01369168, 237.61942308, 244.25151648,\n",
       "       244.52361616, 244.52169399, 243.082     , 236.705     ,\n",
       "       244.01369168, 237.29015625, 243.43681159, 242.64691729,\n",
       "       239.9709589 , 243.43681159, 239.9709589 , 244.01369168,\n",
       "       244.42972696, 244.01369168, 237.29015625, 244.01369168,\n",
       "       244.0143007 , 244.0143007 , 243.43681159, 244.42972696,\n",
       "       236.705     , 244.25151648, 243.94979112, 237.29015625,\n",
       "       241.27833333, 243.78769401, 236.705     , 242.64691729,\n",
       "       244.01369168, 242.30656757, 237.75050505, 243.43681159,\n",
       "       244.01369168, 243.94979112, 243.94979112, 244.52169399,\n",
       "       244.0143007 , 237.13083333, 243.00956522, 244.0143007 ,\n",
       "       244.01369168, 236.71216867, 242.64691729, 244.47494867,\n",
       "       244.01369168, 242.64691729, 242.73233871, 242.46080214,\n",
       "       243.94979112, 242.46080214, 241.27833333, 237.29015625,\n",
       "       242.64691729, 244.25151648, 244.01369168, 239.77893617,\n",
       "       244.25151648, 244.01369168, 244.01369168, 244.01369168,\n",
       "       242.64691729, 243.082     , 244.25151648, 235.94538462,\n",
       "       242.64691729, 237.61942308, 243.41024194, 235.64214286,\n",
       "       235.71949367, 237.29015625, 244.25151648, 239.5175    ,\n",
       "       235.40022222, 237.29015625, 243.94979112, 242.64691729,\n",
       "       242.68635417, 237.77764706, 244.42972696, 242.64691729,\n",
       "       244.41371278, 243.94979112, 241.27833333, 244.01369168,\n",
       "       243.082     , 244.0143007 , 236.71216867, 244.01369168,\n",
       "       244.01369168, 242.64691729, 244.52361616, 244.25151648,\n",
       "       241.27833333, 242.64691729, 242.64691729, 236.705     ,\n",
       "       244.01369168, 244.01369168, 243.082     , 242.64691729,\n",
       "       244.25151648, 243.94979112, 244.01369168, 243.42270213,\n",
       "       242.30656757, 244.0143007 , 244.0143007 , 242.68635417,\n",
       "       243.082     , 237.61942308, 242.64691729, 243.43681159,\n",
       "       237.29015625, 243.43681159, 244.0143007 , 243.43681159,\n",
       "       244.01369168, 244.01369168, 243.94979112, 243.43681159,\n",
       "       243.94979112, 242.68635417, 241.27833333, 244.01369168,\n",
       "       242.68635417, 237.29015625, 242.64691729, 243.10543175,\n",
       "       244.30860075, 243.78769401, 243.082     , 239.75      ,\n",
       "       244.01369168, 244.01369168, 243.082     , 237.61942308,\n",
       "       242.73233871, 243.42270213, 244.47494867, 243.082     ,\n",
       "       244.47494867, 244.42972696, 241.27833333, 241.27833333,\n",
       "       244.01369168, 244.25151648, 244.47494867, 243.94979112,\n",
       "       243.082     , 242.68635417, 244.01369168, 243.41024194,\n",
       "       237.61942308, 242.46080214, 244.25151648, 243.082     ,\n",
       "       238.58      , 237.61942308, 237.13083333, 237.61942308,\n",
       "       238.58      , 244.01369168, 235.40022222, 237.0516129 ,\n",
       "       244.01369168, 244.25151648, 243.43681159, 244.01369168,\n",
       "       241.27833333, 243.43681159, 244.01369168, 236.05527273,\n",
       "       244.41371278, 244.0143007 , 244.01369168, 244.0143007 ,\n",
       "       236.705     , 243.41024194, 243.94979112, 244.47494867,\n",
       "       244.01369168, 243.94979112, 243.78769401, 237.0516129 ,\n",
       "       244.01369168, 244.01369168, 242.64691729, 237.29015625,\n",
       "       243.43681159, 243.082     , 244.01369168, 236.705     ,\n",
       "       244.01369168, 244.01369168, 242.64691729, 244.01369168,\n",
       "       244.0143007 , 237.29015625])"
      ]
     },
     "execution_count": 96,
     "metadata": {},
     "output_type": "execute_result"
    }
   ],
   "source": [
    "model_ada= AdaBoostRegressor()\n",
    "model_ada.fit(x_train,y_train)\n",
    "pred_ada= model_ada.predict(x_test)\n",
    "pred_ada"
   ]
  },
  {
   "cell_type": "code",
   "execution_count": 97,
   "id": "ef9fad1d-51e4-44d6-a5bf-41c10698079c",
   "metadata": {},
   "outputs": [],
   "source": [
    "from sklearn.metrics import mean_squared_error,r2_score"
   ]
  },
  {
   "cell_type": "code",
   "execution_count": 98,
   "id": "12c547d3-1afe-4205-a939-d90f8ee0733d",
   "metadata": {},
   "outputs": [
    {
     "name": "stdout",
     "output_type": "stream",
     "text": [
      "2.561403659560151\n"
     ]
    }
   ],
   "source": [
    "print(mean_squared_error(y_test,pred_ada))"
   ]
  },
  {
   "cell_type": "code",
   "execution_count": 99,
   "id": "a023e2f4-f64d-4116-a259-68c1e15ff5c0",
   "metadata": {},
   "outputs": [
    {
     "name": "stdout",
     "output_type": "stream",
     "text": [
      "0.7527338622805051\n"
     ]
    }
   ],
   "source": [
    "print(r2_score(y_test,pred_ada))"
   ]
  },
  {
   "cell_type": "markdown",
   "id": "22610b93-0589-425a-b17b-bcfa75d72b8b",
   "metadata": {},
   "source": [
    "## Gradient Boosting"
   ]
  },
  {
   "cell_type": "code",
   "execution_count": 100,
   "id": "a7bf7256-6b98-4233-ab93-a7a8f36f653d",
   "metadata": {},
   "outputs": [],
   "source": [
    "from sklearn.ensemble import GradientBoostingRegressor"
   ]
  },
  {
   "cell_type": "code",
   "execution_count": 101,
   "id": "193024f0-4f84-4d2f-afda-b2d784b66171",
   "metadata": {},
   "outputs": [
    {
     "data": {
      "text/plain": [
       "array([242.47669987, 242.8095993 , 244.54862895, 243.55233979,\n",
       "       244.94471221, 244.94471221, 243.15244395, 237.59091648,\n",
       "       237.8103964 , 246.06465062, 243.06624883, 242.06834103,\n",
       "       243.19823354, 239.9376325 , 242.46538437, 242.82196753,\n",
       "       240.04634198, 242.31053385, 243.97048912, 244.94471221,\n",
       "       243.69262875, 243.08028555, 243.52104371, 244.17143534,\n",
       "       242.9112079 , 246.06465062, 242.15141372, 242.65316347,\n",
       "       243.60102468, 244.67102127, 244.06671589, 235.39270288,\n",
       "       245.13112092, 243.95781044, 243.15244395, 237.89680763,\n",
       "       244.39002236, 236.24880474, 243.15244395, 235.28640798,\n",
       "       244.84892914, 236.31507564, 245.13181505, 242.93941036,\n",
       "       235.70139721, 242.25039869, 244.94471221, 242.25112668,\n",
       "       237.42503152, 244.37664556, 243.41598797, 245.27896982,\n",
       "       244.06671589, 244.07256365, 242.3275523 , 242.46538437,\n",
       "       244.91540624, 241.85510559, 242.46538437, 246.06465062,\n",
       "       242.35857965, 241.43230127, 243.97048912, 243.35735887,\n",
       "       243.06952872, 243.69262875, 239.98672104, 242.25112668,\n",
       "       239.75894527, 242.35857965, 238.34160198, 235.47023428,\n",
       "       235.63772297, 241.85510559, 235.55669138, 244.36224233,\n",
       "       245.27896982, 246.12962453, 244.14963112, 236.24880474,\n",
       "       243.79022874, 237.89232187, 242.35857965, 242.51608975,\n",
       "       240.00769793, 243.2546224 , 240.00769793, 245.719399  ,\n",
       "       245.67104083, 243.23251411, 237.42503152, 244.00274313,\n",
       "       244.64288223, 243.09402408, 243.2546224 , 245.67104083,\n",
       "       236.95095945, 244.36224233, 242.16703463, 237.40449548,\n",
       "       241.60215229, 242.77246106, 236.25720694, 242.25112668,\n",
       "       243.15244395, 239.9376325 , 236.31223449, 242.35857965,\n",
       "       243.69368168, 244.67102127, 243.72908157, 245.81470663,\n",
       "       242.9112079 , 237.54241698, 242.8095993 , 244.97121377,\n",
       "       243.40533425, 236.4856892 , 242.46538437, 243.95781044,\n",
       "       243.06952872, 242.47669987, 242.3313559 , 242.20627164,\n",
       "       244.67102127, 239.98672104, 241.60215229, 237.59091648,\n",
       "       242.25112668, 243.80309636, 244.13716869, 239.95860939,\n",
       "       243.4470353 , 243.148089  , 243.0295307 , 244.39002236,\n",
       "       242.47669987, 244.42284277, 243.52428677, 236.01994093,\n",
       "       242.46538437, 236.00144491, 242.25039869, 236.03361999,\n",
       "       235.68250754, 236.67720657, 245.30352002, 239.06033398,\n",
       "       234.37985707, 237.63742324, 244.67102127, 242.46784095,\n",
       "       242.1248324 , 237.3465068 , 245.28544807, 242.47669987,\n",
       "       243.69014017, 243.69262875, 241.21786178, 244.13716869,\n",
       "       243.01924771, 244.84892914, 237.42575317, 243.36982891,\n",
       "       242.33592824, 242.46538437, 245.27896982, 244.53751955,\n",
       "       241.41701011, 242.46538437, 242.51608975, 236.25720694,\n",
       "       244.29465807, 245.719399  , 244.62255785, 242.46538437,\n",
       "       244.98648514, 244.67102127, 243.0613756 , 242.65316347,\n",
       "       242.49297009, 244.76580335, 242.51719404, 242.1248324 ,\n",
       "       243.6574491 , 235.55669138, 242.31053385, 243.2546224 ,\n",
       "       237.89232187, 242.35857965, 243.74661218, 242.35857965,\n",
       "       243.148089  , 245.60196973, 244.67102127, 243.02474415,\n",
       "       244.67102127, 242.41085413, 241.60215229, 244.29465807,\n",
       "       242.51793   , 237.60189234, 242.51608975, 241.27517301,\n",
       "       244.94471221, 242.86526724, 244.6400563 , 239.75894527,\n",
       "       243.23251411, 243.79022874, 244.06671589, 235.96881866,\n",
       "       242.41658942, 242.3275523 , 242.93941036, 244.14963112,\n",
       "       244.56815619, 244.94471221, 241.41701011, 241.38763101,\n",
       "       244.18809102, 243.84058751, 242.93941036, 242.8528647 ,\n",
       "       244.14963112, 242.41085413, 243.30969841, 242.25039869,\n",
       "       236.00144491, 239.98672104, 243.55499373, 244.14963112,\n",
       "       238.34160198, 235.55669138, 237.90052855, 235.54956858,\n",
       "       239.50185763, 244.00274313, 233.91716225, 237.05006875,\n",
       "       243.23251411, 245.21987951, 242.35857965, 245.60196973,\n",
       "       241.52816423, 243.02474415, 243.15244395, 234.88938086,\n",
       "       244.29649813, 244.64288223, 242.6015963 , 244.68224957,\n",
       "       236.95095945, 242.25039869, 244.17143534, 245.67104083,\n",
       "       245.79249791, 244.17143534, 241.62023372, 237.39964224,\n",
       "       243.15244395, 244.1182705 , 242.51608975, 237.42503152,\n",
       "       243.02474415, 244.95234849, 243.7755082 , 236.25720694,\n",
       "       244.1182705 , 243.15244395, 242.51608975, 244.18809102,\n",
       "       244.64288223, 237.59091648])"
      ]
     },
     "execution_count": 101,
     "metadata": {},
     "output_type": "execute_result"
    }
   ],
   "source": [
    "model_gra= GradientBoostingRegressor()\n",
    "model_gra.fit(x_train,y_train)\n",
    "pred_gra = model_gra.predict(x_test)\n",
    "pred_gra"
   ]
  },
  {
   "cell_type": "code",
   "execution_count": 102,
   "id": "67a49300-c46e-41b8-b866-016d7759ae1a",
   "metadata": {},
   "outputs": [],
   "source": [
    "from sklearn.metrics import mean_squared_error,r2_score"
   ]
  },
  {
   "cell_type": "code",
   "execution_count": 103,
   "id": "e57440af-f1c8-491c-b586-f1d33f4f66b3",
   "metadata": {},
   "outputs": [
    {
     "name": "stdout",
     "output_type": "stream",
     "text": [
      "1.4691155965535632\n"
     ]
    }
   ],
   "source": [
    "print(mean_squared_error(y_test,pred_gra))"
   ]
  },
  {
   "cell_type": "code",
   "execution_count": 104,
   "id": "eddccd86-528b-414c-9bcc-8978637bc9e0",
   "metadata": {},
   "outputs": [
    {
     "name": "stdout",
     "output_type": "stream",
     "text": [
      "0.8581783319987716\n"
     ]
    }
   ],
   "source": [
    "print(r2_score(y_test,pred_gra))"
   ]
  },
  {
   "cell_type": "markdown",
   "id": "906cc51e-1b28-4b64-9e44-e4e40c8f31ed",
   "metadata": {},
   "source": [
    "## XG Boost"
   ]
  },
  {
   "cell_type": "code",
   "execution_count": 105,
   "id": "5798d6d2-d6ce-47db-b0a2-2c161b748880",
   "metadata": {},
   "outputs": [
    {
     "name": "stdout",
     "output_type": "stream",
     "text": [
      "Requirement already satisfied: xgboost in c:\\users\\asus\\anaconda3\\lib\\site-packages (2.1.1)\n",
      "Requirement already satisfied: numpy in c:\\users\\asus\\anaconda3\\lib\\site-packages (from xgboost) (1.26.4)\n",
      "Requirement already satisfied: scipy in c:\\users\\asus\\anaconda3\\lib\\site-packages (from xgboost) (1.11.4)\n",
      "Note: you may need to restart the kernel to use updated packages.\n"
     ]
    }
   ],
   "source": [
    "pip install xgboost"
   ]
  },
  {
   "cell_type": "code",
   "execution_count": 106,
   "id": "58ae4bed-1138-4049-9e4f-f1ca7c45272f",
   "metadata": {},
   "outputs": [],
   "source": [
    "from xgboost import XGBRegressor"
   ]
  },
  {
   "cell_type": "code",
   "execution_count": 107,
   "id": "1f1f43f6-e71c-4542-8c01-ff0abaa5d7c3",
   "metadata": {},
   "outputs": [
    {
     "data": {
      "text/plain": [
       "array([243.18098, 242.64125, 243.13394, 243.92038, 245.07831, 245.07831,\n",
       "       244.33199, 237.5284 , 238.5295 , 245.73029, 242.06847, 240.95303,\n",
       "       243.3057 , 239.94017, 241.75574, 242.04494, 239.71236, 242.37961,\n",
       "       244.07059, 245.23915, 243.22757, 243.69888, 243.74551, 244.25996,\n",
       "       242.43651, 246.79152, 242.6938 , 240.52115, 243.48732, 245.83693,\n",
       "       245.03986, 234.97336, 245.5563 , 242.48479, 244.57974, 238.35016,\n",
       "       245.11372, 237.24525, 244.22284, 235.81886, 245.21465, 236.38733,\n",
       "       245.8421 , 241.79063, 235.2043 , 242.07132, 244.91246, 241.99484,\n",
       "       237.81061, 244.61061, 243.42653, 247.22156, 244.23433, 243.7808 ,\n",
       "       242.06963, 243.53745, 246.00854, 240.87743, 242.54884, 246.55873,\n",
       "       241.31004, 241.512  , 244.07059, 243.42586, 242.31943, 242.34306,\n",
       "       239.5392 , 242.18285, 239.74992, 242.15265, 236.37914, 235.2027 ,\n",
       "       235.40953, 240.63547, 236.15602, 244.49268, 246.88364, 246.08585,\n",
       "       244.5672 , 237.39792, 243.19319, 236.6022 , 241.6679 , 242.32886,\n",
       "       239.3732 , 244.45657, 239.40338, 246.41899, 245.82643, 243.05966,\n",
       "       237.81061, 243.84045, 245.41844, 241.86578, 243.7168 , 245.82643,\n",
       "       237.68257, 244.61075, 242.44994, 239.66211, 242.16562, 242.66553,\n",
       "       235.53423, 241.8149 , 244.40138, 239.94017, 235.02917, 241.31004,\n",
       "       244.43982, 246.84203, 243.55333, 245.53543, 242.57458, 237.46684,\n",
       "       242.64125, 244.437  , 245.10872, 236.8109 , 242.6772 , 242.91183,\n",
       "       242.31943, 242.44743, 241.15225, 243.00197, 246.84203, 239.67899,\n",
       "       242.16562, 237.5649 , 241.99484, 243.90135, 244.37831, 239.25368,\n",
       "       243.30748, 242.4126 , 242.83815, 244.6957 , 243.39459, 244.35165,\n",
       "       243.43768, 236.05289, 242.54884, 236.07637, 242.07132, 234.81946,\n",
       "       234.84204, 236.63068, 246.02896, 241.76889, 234.20926, 238.03993,\n",
       "       246.84203, 241.71913, 241.66232, 240.35938, 246.24992, 242.44743,\n",
       "       242.85597, 243.22757, 240.83298, 244.39185, 242.01102, 245.40315,\n",
       "       235.89883, 243.20534, 241.21736, 242.28632, 247.42337, 245.59497,\n",
       "       241.83066, 241.83662, 242.32886, 236.91734, 245.78613, 246.41899,\n",
       "       244.55952, 242.4742 , 245.79285, 244.98497, 242.55211, 241.8576 ,\n",
       "       243.2415 , 245.7162 , 242.04437, 241.49059, 242.4193 , 235.06061,\n",
       "       242.37961, 244.61177, 237.15764, 241.6679 , 244.01085, 241.27791,\n",
       "       242.0827 , 246.02501, 244.98497, 240.84286, 244.98497, 242.39096,\n",
       "       242.16562, 245.61157, 243.06474, 238.84886, 242.77676, 240.8937 ,\n",
       "       244.91246, 243.03265, 244.86053, 240.19981, 242.40068, 243.17076,\n",
       "       245.49066, 236.05804, 241.7063 , 242.06963, 241.79659, 244.71652,\n",
       "       245.46367, 245.08423, 241.83066, 241.54916, 244.30864, 243.77756,\n",
       "       242.54657, 242.90132, 244.71652, 241.79156, 242.06245, 241.8131 ,\n",
       "       236.32782, 239.61542, 243.466  , 244.40384, 236.37595, 235.06061,\n",
       "       238.84525, 235.71413, 237.52786, 243.84045, 231.43503, 236.31816,\n",
       "       243.05966, 245.98224, 242.0587 , 246.02501, 241.512  , 242.65892,\n",
       "       244.22284, 234.11575, 246.53406, 245.41844, 241.90228, 245.163  ,\n",
       "       237.30635, 242.07132, 244.25996, 247.35753, 245.10872, 244.25996,\n",
       "       240.38301, 237.93637, 244.22284, 244.24495, 242.46356, 237.94069,\n",
       "       242.25124, 245.6649 , 244.6349 , 237.48059, 244.24495, 244.68892,\n",
       "       242.09474, 244.44759, 245.41844, 237.45518], dtype=float32)"
      ]
     },
     "execution_count": 107,
     "metadata": {},
     "output_type": "execute_result"
    }
   ],
   "source": [
    "model_xgb = XGBRegressor()\n",
    "model_xgb.fit(x_train,y_train)\n",
    "pred_xgb = model_xgb.predict(x_test)\n",
    "pred_xgb"
   ]
  },
  {
   "cell_type": "code",
   "execution_count": 108,
   "id": "21784aab-c986-4c55-84e4-301346d61e05",
   "metadata": {},
   "outputs": [],
   "source": [
    "from sklearn.metrics import mean_squared_error,r2_score"
   ]
  },
  {
   "cell_type": "code",
   "execution_count": 109,
   "id": "5221c0e3-1e1c-4ee0-a062-020470a49bd6",
   "metadata": {},
   "outputs": [
    {
     "name": "stdout",
     "output_type": "stream",
     "text": [
      "1.0483180687044518\n"
     ]
    }
   ],
   "source": [
    "print(mean_squared_error(y_test,pred_xgb))"
   ]
  },
  {
   "cell_type": "code",
   "execution_count": 110,
   "id": "f436a2fa-1eee-46a1-81a9-a38ded8ea356",
   "metadata": {},
   "outputs": [
    {
     "name": "stdout",
     "output_type": "stream",
     "text": [
      "0.898800191456499\n"
     ]
    }
   ],
   "source": [
    "print(r2_score(y_test,pred_xgb))"
   ]
  },
  {
   "cell_type": "markdown",
   "id": "cd9f20bd-7c85-44ee-a5ea-253abda3411a",
   "metadata": {},
   "source": [
    "# Performance Analysis"
   ]
  },
  {
   "cell_type": "code",
   "execution_count": 116,
   "id": "42cf807e-c16f-44df-a0bf-d31d3072b979",
   "metadata": {},
   "outputs": [],
   "source": [
    "lg_scorde  =41 # Linear Regression\n",
    "knn_scorde =85 # k nearest\n",
    "svm_scorde =44 # support vector\n",
    "dt_scorde  =83 # random forest\n",
    "rf_scorde  =90 # decision tree\n",
    "xgb_scorde =90 # boosting"
   ]
  },
  {
   "cell_type": "code",
   "execution_count": 119,
   "id": "6a1797fd-78c4-4f86-826c-9efdeaf8fe10",
   "metadata": {},
   "outputs": [
    {
     "data": {
      "image/png": "[encoded data removed]",
      "text/plain": [
       "<Figure size 1000x500 with 1 Axes>"
      ]
     },
     "metadata": {},
     "output_type": "display_data"
    }
   ],
   "source": [
    "algorithms = ['Linear Regression','KNN' ,'SVM','DT','RF','XGB']\n",
    "scores = [lg_scorde,knn_scorde,svm_scorde,dt_scorde,rf_scorde,xgb_scorde]\n",
    "\n",
    "# Plotting the bar graph \n",
    "plt.figure(figsize=(10, 5))\n",
    "plt.bar(algorithms, scores, color=['green', 'yellow', 'orange', 'gray', 'red','brown'])\n",
    "plt.xlabel(\"Algorithms\")\n",
    "plt.ylabel(\"R2score\")\n",
    "plt.title(\"Performance Analysis of Different Regression Algorithms\")\n",
    "plt.ylim(0, max(scores) + 1) \n",
    "plt.grid(axis='y',alpha=0.5)\n",
    "plt.show()"
   ]
  },
  {
   "cell_type": "raw",
   "id": "7f5f538d-10e5-4241-bc22-ded416f78208",
   "metadata": {},
   "source": [
    "The model with the highest accuracy score is Random Forest with an accuracy of 90% and XGB 90%"
   ]
  },
  {
   "cell_type": "markdown",
   "id": "6211f8a6-627a-43d5-a43b-e9f2e645902d",
   "metadata": {},
   "source": [
    "# Prediction"
   ]
  },
  {
   "cell_type": "code",
   "execution_count": 120,
   "id": "ea7165a3-e1a8-47d6-b7d8-2484d61718b8",
   "metadata": {},
   "outputs": [
    {
     "data": {
      "text/html": [
       "<div>\n",
       "<style scoped>\n",
       "    .dataframe tbody tr th:only-of-type {\n",
       "        vertical-align: middle;\n",
       "    }\n",
       "\n",
       "    .dataframe tbody tr th {\n",
       "        vertical-align: top;\n",
       "    }\n",
       "\n",
       "    .dataframe thead th {\n",
       "        text-align: right;\n",
       "    }\n",
       "</style>\n",
       "<table border=\"1\" class=\"dataframe\">\n",
       "  <thead>\n",
       "    <tr style=\"text-align: right;\">\n",
       "      <th></th>\n",
       "      <th>Date</th>\n",
       "      <th>Global_active_power</th>\n",
       "      <th>Global_reactive_power</th>\n",
       "      <th>Voltage</th>\n",
       "      <th>Global_intensity</th>\n",
       "      <th>Sub_metering_1</th>\n",
       "      <th>Sub_metering_2</th>\n",
       "      <th>Sub_metering_3</th>\n",
       "    </tr>\n",
       "  </thead>\n",
       "  <tbody>\n",
       "    <tr>\n",
       "      <th>0</th>\n",
       "      <td>0</td>\n",
       "      <td>2.580</td>\n",
       "      <td>0.136</td>\n",
       "      <td>241.97</td>\n",
       "      <td>10.6</td>\n",
       "      <td>0</td>\n",
       "      <td>0</td>\n",
       "      <td>0</td>\n",
       "    </tr>\n",
       "    <tr>\n",
       "      <th>1</th>\n",
       "      <td>0</td>\n",
       "      <td>2.552</td>\n",
       "      <td>0.100</td>\n",
       "      <td>241.75</td>\n",
       "      <td>10.4</td>\n",
       "      <td>0</td>\n",
       "      <td>0</td>\n",
       "      <td>0</td>\n",
       "    </tr>\n",
       "    <tr>\n",
       "      <th>2</th>\n",
       "      <td>0</td>\n",
       "      <td>2.550</td>\n",
       "      <td>0.100</td>\n",
       "      <td>241.64</td>\n",
       "      <td>10.4</td>\n",
       "      <td>0</td>\n",
       "      <td>0</td>\n",
       "      <td>0</td>\n",
       "    </tr>\n",
       "    <tr>\n",
       "      <th>3</th>\n",
       "      <td>0</td>\n",
       "      <td>2.550</td>\n",
       "      <td>0.100</td>\n",
       "      <td>241.71</td>\n",
       "      <td>10.4</td>\n",
       "      <td>0</td>\n",
       "      <td>0</td>\n",
       "      <td>0</td>\n",
       "    </tr>\n",
       "    <tr>\n",
       "      <th>4</th>\n",
       "      <td>0</td>\n",
       "      <td>2.554</td>\n",
       "      <td>0.100</td>\n",
       "      <td>241.98</td>\n",
       "      <td>10.4</td>\n",
       "      <td>0</td>\n",
       "      <td>0</td>\n",
       "      <td>0</td>\n",
       "    </tr>\n",
       "  </tbody>\n",
       "</table>\n",
       "</div>"
      ],
      "text/plain": [
       "   Date  Global_active_power  Global_reactive_power  Voltage  \\\n",
       "0     0                2.580                  0.136   241.97   \n",
       "1     0                2.552                  0.100   241.75   \n",
       "2     0                2.550                  0.100   241.64   \n",
       "3     0                2.550                  0.100   241.71   \n",
       "4     0                2.554                  0.100   241.98   \n",
       "\n",
       "   Global_intensity  Sub_metering_1  Sub_metering_2  Sub_metering_3  \n",
       "0              10.6               0               0               0  \n",
       "1              10.4               0               0               0  \n",
       "2              10.4               0               0               0  \n",
       "3              10.4               0               0               0  \n",
       "4              10.4               0               0               0  "
      ]
     },
     "execution_count": 120,
     "metadata": {},
     "output_type": "execute_result"
    }
   ],
   "source": [
    "df.head()"
   ]
  },
  {
   "cell_type": "code",
   "execution_count": 121,
   "id": "190f9ae7-ddeb-4d9a-bf4e-b201d694037d",
   "metadata": {},
   "outputs": [
    {
     "data": {
      "text/html": [
       "<div>\n",
       "<style scoped>\n",
       "    .dataframe tbody tr th:only-of-type {\n",
       "        vertical-align: middle;\n",
       "    }\n",
       "\n",
       "    .dataframe tbody tr th {\n",
       "        vertical-align: top;\n",
       "    }\n",
       "\n",
       "    .dataframe thead th {\n",
       "        text-align: right;\n",
       "    }\n",
       "</style>\n",
       "<table border=\"1\" class=\"dataframe\">\n",
       "  <thead>\n",
       "    <tr style=\"text-align: right;\">\n",
       "      <th></th>\n",
       "      <th>Date</th>\n",
       "      <th>Global_active_power</th>\n",
       "      <th>Global_reactive_power</th>\n",
       "      <th>Global_intensity</th>\n",
       "      <th>Sub_metering_1</th>\n",
       "      <th>Sub_metering_2</th>\n",
       "      <th>Sub_metering_3</th>\n",
       "    </tr>\n",
       "  </thead>\n",
       "  <tbody>\n",
       "    <tr>\n",
       "      <th>92</th>\n",
       "      <td>0.250</td>\n",
       "      <td>0.041053</td>\n",
       "      <td>0.370370</td>\n",
       "      <td>0.042017</td>\n",
       "      <td>0.000000</td>\n",
       "      <td>0.0</td>\n",
       "      <td>0.0</td>\n",
       "    </tr>\n",
       "    <tr>\n",
       "      <th>874</th>\n",
       "      <td>1.000</td>\n",
       "      <td>0.017193</td>\n",
       "      <td>0.391534</td>\n",
       "      <td>0.016807</td>\n",
       "      <td>0.000000</td>\n",
       "      <td>0.0</td>\n",
       "      <td>0.0</td>\n",
       "    </tr>\n",
       "    <tr>\n",
       "      <th>277</th>\n",
       "      <td>0.500</td>\n",
       "      <td>0.099298</td>\n",
       "      <td>0.164021</td>\n",
       "      <td>0.092437</td>\n",
       "      <td>0.000000</td>\n",
       "      <td>0.0</td>\n",
       "      <td>0.0</td>\n",
       "    </tr>\n",
       "    <tr>\n",
       "      <th>762</th>\n",
       "      <td>1.000</td>\n",
       "      <td>0.005263</td>\n",
       "      <td>0.153439</td>\n",
       "      <td>0.008403</td>\n",
       "      <td>0.000000</td>\n",
       "      <td>0.0</td>\n",
       "      <td>0.0</td>\n",
       "    </tr>\n",
       "    <tr>\n",
       "      <th>1032</th>\n",
       "      <td>0.625</td>\n",
       "      <td>0.029474</td>\n",
       "      <td>0.222222</td>\n",
       "      <td>0.025210</td>\n",
       "      <td>0.025641</td>\n",
       "      <td>0.0</td>\n",
       "      <td>0.0</td>\n",
       "    </tr>\n",
       "  </tbody>\n",
       "</table>\n",
       "</div>"
      ],
      "text/plain": [
       "       Date  Global_active_power  Global_reactive_power  Global_intensity  \\\n",
       "92    0.250             0.041053               0.370370          0.042017   \n",
       "874   1.000             0.017193               0.391534          0.016807   \n",
       "277   0.500             0.099298               0.164021          0.092437   \n",
       "762   1.000             0.005263               0.153439          0.008403   \n",
       "1032  0.625             0.029474               0.222222          0.025210   \n",
       "\n",
       "      Sub_metering_1  Sub_metering_2  Sub_metering_3  \n",
       "92          0.000000             0.0             0.0  \n",
       "874         0.000000             0.0             0.0  \n",
       "277         0.000000             0.0             0.0  \n",
       "762         0.000000             0.0             0.0  \n",
       "1032        0.025641             0.0             0.0  "
      ]
     },
     "execution_count": 121,
     "metadata": {},
     "output_type": "execute_result"
    }
   ],
   "source": [
    "x_train.head()"
   ]
  },
  {
   "cell_type": "code",
   "execution_count": 122,
   "id": "2c76c275-ed0e-4463-aa01-6c22cd886cb6",
   "metadata": {},
   "outputs": [
    {
     "data": {
      "text/plain": [
       "92      244.44\n",
       "874     242.42\n",
       "277     241.58\n",
       "762     245.68\n",
       "1032    236.57\n",
       "Name: Voltage, dtype: float64"
      ]
     },
     "execution_count": 122,
     "metadata": {},
     "output_type": "execute_result"
    }
   ],
   "source": [
    "y_train.head()"
   ]
  },
  {
   "cell_type": "code",
   "execution_count": 123,
   "id": "87818355-c987-4a2a-8ec6-ee1af69fc33c",
   "metadata": {},
   "outputs": [
    {
     "name": "stderr",
     "output_type": "stream",
     "text": [
      "C:\\Users\\Asus\\anaconda3\\Lib\\site-packages\\sklearn\\base.py:439: UserWarning: X does not have valid feature names, but RandomForestRegressor was fitted with feature names\n",
      "  warnings.warn(\n"
     ]
    },
    {
     "data": {
      "text/plain": [
       "array([244.4707])"
      ]
     },
     "execution_count": 123,
     "metadata": {},
     "output_type": "execute_result"
    }
   ],
   "source": [
    "rf_model.predict([[0.250,\t0.041053,\t0.370370,\t0.042017,\t0.000000,\t0.0,\t0.0]])"
   ]
  },
  {
   "cell_type": "code",
   "execution_count": 124,
   "id": "cdb3e579-13c9-4c80-abda-5d0c0d259361",
   "metadata": {},
   "outputs": [
    {
     "name": "stderr",
     "output_type": "stream",
     "text": [
      "C:\\Users\\Asus\\anaconda3\\Lib\\site-packages\\sklearn\\base.py:439: UserWarning: X does not have valid feature names, but RandomForestRegressor was fitted with feature names\n",
      "  warnings.warn(\n"
     ]
    },
    {
     "data": {
      "text/plain": [
       "array([242.4155])"
      ]
     },
     "execution_count": 124,
     "metadata": {},
     "output_type": "execute_result"
    }
   ],
   "source": [
    "rf_model.predict([[1.000,\t0.017193,\t0.391534,\t0.016807,\t0.000000,\t0.0,\t0.0]])"
   ]
  },
  {
   "cell_type": "code",
   "execution_count": 125,
   "id": "a03b1be7-6433-4cc5-9405-c54d12a9eff8",
   "metadata": {},
   "outputs": [
    {
     "name": "stderr",
     "output_type": "stream",
     "text": [
      "C:\\Users\\Asus\\anaconda3\\Lib\\site-packages\\sklearn\\base.py:439: UserWarning: X does not have valid feature names, but RandomForestRegressor was fitted with feature names\n",
      "  warnings.warn(\n"
     ]
    },
    {
     "data": {
      "text/plain": [
       "array([241.4905])"
      ]
     },
     "execution_count": 125,
     "metadata": {},
     "output_type": "execute_result"
    }
   ],
   "source": [
    "rf_model.predict([[0.500,\t0.099298,\t0.164021,\t0.092437,\t0.000000,\t0.0,\t0.0]])"
   ]
  },
  {
   "cell_type": "markdown",
   "id": "f6793990-9522-4eef-951f-9827094aa21c",
   "metadata": {},
   "source": [
    "# Household Voltage Detection Process\n",
    "## 1.Data Collection\n",
    "The Household Voltage dataset includes various attributes related to electricity usage. Each row represents a power observation, and each column corresponds to a feature that influences overall voltage quality.\n",
    "\n",
    "## 2.Data Preprocessing\n",
    "Before training the models, the dataset was preprocessed by handling missing values, normalizing the features, and splitting the data into training and test sets to ensure accurate evaluation.\n",
    "\n",
    "## 3.Feature Selection\n",
    "The following features were selected for model training:\n",
    "\n",
    "- **Date**: The timestamp of the power observation.\n",
    "- **Global_active_power**: The active power consumed in the household.\n",
    "- **Global_reactive_power**: The reactive power in the household.\n",
    "- **Voltage**: The household voltage at the time of observation.\n",
    "- **Global_intensity**: The intensity of electricity usage.\n",
    "- **Sub_metering_1, 2, 3**: Energy sub-meter readings from various parts of the household.\n",
    "\n",
    "## 4.Model Training\n",
    "Several machine learning models were trained to predict household voltage. The models used in this task and their performance (accuracy) are as follows:\n",
    "\n",
    "- **Linear Regression** (LR): 41%\n",
    "- **Support Vector Machine** (SVM): 44%\n",
    "- **Decision Tree** (DT): 83%\n",
    "- **K-Nearest Neighbors** (KNN): 85%\n",
    "- **Random Forest** (RF): 90%\n",
    "- **XGBoost** (XGB): 90%\n",
    "\n",
    "## 5.Model Evaluation\n",
    "The performance of each model was evaluated using accuracy scores, which measure the percentage of correct predictions on the test set. Both the Random Forest and XGBoost models achieved the highest accuracy of 90%, indicating strong performance in predicting voltage values.\n",
    "\n",
    "## 6.Best Model Selection\n",
    "Based on the evaluation results, both Random Forest and XGBoost models, with an accuracy of 90%, are identified as the best-performing models for this household voltage detection task.\n",
    "\n",
    "## Columns in the Dataset\n",
    "Here is a detailed description of the columns used in the household voltage detection dataset:\n",
    "\n",
    "- **Date**: The timestamp of the voltage observation, indicating the date and time.\n",
    "- **Global_active_power**: The total active power consumed in the household.\n",
    "- **Global_reactive_power**: The total reactive power in the household.\n",
    "- **Voltage**: The ousehold voltage measured during the observation period.\n",
    "- **Global_intensity**: The intensity of electricity usage.\n",
    "- **Sub_metering_1, 2, 3**: The energy sub-metering readings from different sections of the household.\n",
    "\n",
    "By analyzing key attributes like power, intensity, and voltage, machine learning models can predict household voltage effectively. Both the Random Forest and XGBoost models are the most effective, achieving high prediction accuracy."
   ]
  }
 ],
 "metadata": {
  "kernelspec": {
   "display_name": "Python 3 (ipykernel)",
   "language": "python",
   "name": "python3"
  },
  "language_info": {
   "codemirror_mode": {
    "name": "ipython",
    "version": 3
   },
   "file_extension": ".py",
   "mimetype": "text/x-python",
   "name": "python",
   "nbconvert_exporter": "python",
   "pygments_lexer": "ipython3",
   "version": "3.11.7"
  }
 },
 "nbformat": 4,
 "nbformat_minor": 5
}
